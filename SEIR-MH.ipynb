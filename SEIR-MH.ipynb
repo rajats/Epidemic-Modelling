{
 "cells": [
  {
   "cell_type": "markdown",
   "metadata": {},
   "source": [
    "---\n",
    "R Notebook  \n",
    "Parts of code taken from Tim Churches blog on \"Analysing COVID-19 (2019-nCoV) outbreak data with R\"\n",
    "https://timchurches.github.io/blog/posts/2020-02-18-analysing-covid-19-2019-ncov-outbreak-data-with-r-part-1/ \n",
    "Data taken from: https://github.com/covid19india/api\n",
    "  \n",
    "In this notebook, I will try to fit the SEIR(Susceptible,  Exposed, Infected,  Recovered) model to Maharashtra Covid-19 data.\n",
    "In a closed population (that is, assuming no births or deaths), the SEIR model is:\n",
    "\n",
    "\\begin{aligned}\n",
    "\\frac{dS}{dt} & = -\\frac{\\beta IS}{N}\\\\\n",
    "\\\\\n",
    "\\frac{dE}{dt} & = \\frac{\\beta IS}{N} - \\kappa E\\\\\n",
    "\\\\\n",
    "\\frac{dI}{dt} & = \\kappa E - \\gamma I\\\\\n",
    "\\\\\n",
    "\\frac{dR}{dt} & = \\gamma I\n",
    "\\end{aligned}\n",
    "\n",
    "\n",
    "Load the needed packages"
   ]
  },
  {
   "cell_type": "code",
   "execution_count": 1,
   "metadata": {},
   "outputs": [
    {
     "name": "stderr",
     "output_type": "stream",
     "text": [
      "Warning message:\n",
      "\"package 'ggplot2' was built under R version 3.6.3\"Warning message:\n",
      "\"package 'deSolve' was built under R version 3.6.3\"Warning message:\n",
      "\"package 'tidyverse' was built under R version 3.6.3\"-- Attaching packages --------------------------------------- tidyverse 1.3.0 --\n",
      "v tibble  3.0.1     v dplyr   0.8.5\n",
      "v tidyr   1.0.2     v stringr 1.4.0\n",
      "v readr   1.3.1     v forcats 0.5.0\n",
      "v purrr   0.3.4     \n",
      "Warning message:\n",
      "\"package 'tibble' was built under R version 3.6.3\"Warning message:\n",
      "\"package 'tidyr' was built under R version 3.6.3\"Warning message:\n",
      "\"package 'readr' was built under R version 3.6.3\"Warning message:\n",
      "\"package 'purrr' was built under R version 3.6.3\"Warning message:\n",
      "\"package 'dplyr' was built under R version 3.6.3\"Warning message:\n",
      "\"package 'stringr' was built under R version 3.6.3\"Warning message:\n",
      "\"package 'forcats' was built under R version 3.6.3\"-- Conflicts ------------------------------------------ tidyverse_conflicts() --\n",
      "x dplyr::filter()  masks stats::filter()\n",
      "x purrr::flatten() masks jsonlite::flatten()\n",
      "x dplyr::lag()     masks stats::lag()\n",
      "Loading required package: lubridate\n",
      "Warning message:\n",
      "\"package 'lubridate' was built under R version 3.6.3\"\n",
      "Attaching package: 'lubridate'\n",
      "\n",
      "The following objects are masked from 'package:dplyr':\n",
      "\n",
      "    intersect, setdiff, union\n",
      "\n",
      "The following objects are masked from 'package:base':\n",
      "\n",
      "    date, intersect, setdiff, union\n",
      "\n"
     ]
    }
   ],
   "source": [
    "library(ggplot2)\n",
    "library(jsonlite)\n",
    "library(deSolve)\n",
    "library(tidyverse)\n",
    "require(lubridate)"
   ]
  },
  {
   "cell_type": "markdown",
   "metadata": {},
   "source": [
    "Get the states data from covid19india.org"
   ]
  },
  {
   "cell_type": "code",
   "execution_count": 2,
   "metadata": {},
   "outputs": [],
   "source": [
    "states_daily = fromJSON(\"https://api.covid19india.org/states_daily.json\")\n",
    "dat = states_daily$states_daily"
   ]
  },
  {
   "cell_type": "markdown",
   "metadata": {},
   "source": [
    "Have a look at the data."
   ]
  },
  {
   "cell_type": "code",
   "execution_count": 3,
   "metadata": {},
   "outputs": [
    {
     "data": {
      "text/html": [
       "<table>\n",
       "<thead><tr><th scope=col>an</th><th scope=col>ap</th><th scope=col>ar</th><th scope=col>as</th><th scope=col>br</th><th scope=col>ch</th><th scope=col>ct</th><th scope=col>date</th><th scope=col>dd</th><th scope=col>dl</th><th scope=col>...</th><th scope=col>rj</th><th scope=col>sk</th><th scope=col>status</th><th scope=col>tg</th><th scope=col>tn</th><th scope=col>tr</th><th scope=col>tt</th><th scope=col>up</th><th scope=col>ut</th><th scope=col>wb</th></tr></thead>\n",
       "<tbody>\n",
       "\t<tr><td>0        </td><td>1        </td><td>0        </td><td>0        </td><td>0        </td><td>0        </td><td>0        </td><td>14-Mar-20</td><td>0        </td><td>7        </td><td>...      </td><td>3        </td><td>0        </td><td>Confirmed</td><td>1        </td><td>1        </td><td>0        </td><td>81       </td><td>12       </td><td>0        </td><td>0        </td></tr>\n",
       "\t<tr><td>0        </td><td>0        </td><td>0        </td><td>0        </td><td>0        </td><td>0        </td><td>0        </td><td>14-Mar-20</td><td>0        </td><td>1        </td><td>...      </td><td>1        </td><td>0        </td><td>Recovered</td><td>0        </td><td>0        </td><td>0        </td><td>9        </td><td>4        </td><td>0        </td><td>0        </td></tr>\n",
       "\t<tr><td>0        </td><td>0        </td><td>0        </td><td>0        </td><td>0        </td><td>0        </td><td>0        </td><td>14-Mar-20</td><td>0        </td><td>1        </td><td>...      </td><td>0        </td><td>0        </td><td>Deceased </td><td>0        </td><td>0        </td><td>0        </td><td>2        </td><td>0        </td><td>0        </td><td>0        </td></tr>\n",
       "\t<tr><td>0        </td><td>0        </td><td>0        </td><td>0        </td><td>0        </td><td>0        </td><td>0        </td><td>15-Mar-20</td><td>0        </td><td>0        </td><td>...      </td><td>1        </td><td>0        </td><td>Confirmed</td><td>2        </td><td>0        </td><td>0        </td><td>27       </td><td>1        </td><td>0        </td><td>0        </td></tr>\n",
       "\t<tr><td>0        </td><td>0        </td><td>0        </td><td>0        </td><td>0        </td><td>0        </td><td>0        </td><td>15-Mar-20</td><td>0        </td><td>1        </td><td>...      </td><td>2        </td><td>0        </td><td>Recovered</td><td>1        </td><td>0        </td><td>0        </td><td>4        </td><td>0        </td><td>0        </td><td>0        </td></tr>\n",
       "\t<tr><td>0        </td><td>0        </td><td>0        </td><td>0        </td><td>0        </td><td>0        </td><td>0        </td><td>15-Mar-20</td><td>0        </td><td>0        </td><td>...      </td><td>0        </td><td>0        </td><td>Deceased </td><td>0        </td><td>0        </td><td>0        </td><td>0        </td><td>0        </td><td>0        </td><td>0        </td></tr>\n",
       "\t<tr><td>0        </td><td>0        </td><td>0        </td><td>0        </td><td>0        </td><td>0        </td><td>0        </td><td>16-Mar-20</td><td>0        </td><td>0        </td><td>...      </td><td>0        </td><td>0        </td><td>Confirmed</td><td>1        </td><td>0        </td><td>0        </td><td>15       </td><td>0        </td><td>1        </td><td>0        </td></tr>\n",
       "\t<tr><td>0        </td><td>0        </td><td>0        </td><td>0        </td><td>0        </td><td>0        </td><td>0        </td><td>16-Mar-20</td><td>0        </td><td>0        </td><td>...      </td><td>0        </td><td>0        </td><td>Recovered</td><td>0        </td><td>1        </td><td>0        </td><td>1        </td><td>0        </td><td>0        </td><td>0        </td></tr>\n",
       "\t<tr><td>0        </td><td>0        </td><td>0        </td><td>0        </td><td>0        </td><td>0        </td><td>0        </td><td>16-Mar-20</td><td>0        </td><td>0        </td><td>...      </td><td>0        </td><td>0        </td><td>Deceased </td><td>0        </td><td>0        </td><td>0        </td><td>0        </td><td>0        </td><td>0        </td><td>0        </td></tr>\n",
       "\t<tr><td>0        </td><td>0        </td><td>0        </td><td>0        </td><td>0        </td><td>0        </td><td>0        </td><td>17-Mar-20</td><td>0        </td><td>1        </td><td>...      </td><td>0        </td><td>0        </td><td>Confirmed</td><td>1        </td><td>0        </td><td>0        </td><td>11       </td><td>2        </td><td>0        </td><td>1        </td></tr>\n",
       "\t<tr><td>0        </td><td>0        </td><td>0        </td><td>0        </td><td>0        </td><td>0        </td><td>0        </td><td>17-Mar-20</td><td>0        </td><td>0        </td><td>...      </td><td>0        </td><td>0        </td><td>Recovered</td><td>0        </td><td>0        </td><td>0        </td><td>1        </td><td>1        </td><td>0        </td><td>0        </td></tr>\n",
       "\t<tr><td>0        </td><td>0        </td><td>0        </td><td>0        </td><td>0        </td><td>0        </td><td>0        </td><td>17-Mar-20</td><td>0        </td><td>0        </td><td>...      </td><td>0        </td><td>0        </td><td>Deceased </td><td>0        </td><td>0        </td><td>0        </td><td>1        </td><td>0        </td><td>0        </td><td>0        </td></tr>\n",
       "\t<tr><td>0        </td><td>0        </td><td>0        </td><td>0        </td><td>0        </td><td>0        </td><td>0        </td><td>18-Mar-20</td><td>0        </td><td>2        </td><td>...      </td><td>3        </td><td>0        </td><td>Confirmed</td><td>8        </td><td>1        </td><td>0        </td><td>37       </td><td>2        </td><td>1        </td><td>0        </td></tr>\n",
       "\t<tr><td>0        </td><td>0        </td><td>0        </td><td>0        </td><td>0        </td><td>0        </td><td>0        </td><td>18-Mar-20</td><td>0        </td><td>0        </td><td>...      </td><td>0        </td><td>0        </td><td>Recovered</td><td>0        </td><td>0        </td><td>0        </td><td>0        </td><td>0        </td><td>0        </td><td>0        </td></tr>\n",
       "\t<tr><td>0        </td><td>0        </td><td>0        </td><td>0        </td><td>0        </td><td>0        </td><td>0        </td><td>18-Mar-20</td><td>0        </td><td>0        </td><td>...      </td><td>0        </td><td>0        </td><td>Deceased </td><td>0        </td><td>0        </td><td>0        </td><td>0        </td><td>0        </td><td>0        </td><td>0        </td></tr>\n",
       "\t<tr><td>0        </td><td>2        </td><td>0        </td><td>0        </td><td>0        </td><td>1        </td><td>1        </td><td>19-Mar-20</td><td>0        </td><td>4        </td><td>...      </td><td>2        </td><td>0        </td><td>Confirmed</td><td>3        </td><td>1        </td><td>0        </td><td>27       </td><td>3        </td><td>1        </td><td>0        </td></tr>\n",
       "\t<tr><td>0        </td><td>0        </td><td>0        </td><td>0        </td><td>0        </td><td>0        </td><td>0        </td><td>19-Mar-20</td><td>0        </td><td>1        </td><td>...      </td><td>0        </td><td>0        </td><td>Recovered</td><td>0        </td><td>0        </td><td>0        </td><td>5        </td><td>4        </td><td>0        </td><td>0        </td></tr>\n",
       "\t<tr><td>0        </td><td>0        </td><td>0        </td><td>0        </td><td>0        </td><td>0        </td><td>0        </td><td>19-Mar-20</td><td>0        </td><td>0        </td><td>...      </td><td>0        </td><td>0        </td><td>Deceased </td><td>0        </td><td>0        </td><td>0        </td><td>1        </td><td>0        </td><td>0        </td><td>0        </td></tr>\n",
       "\t<tr><td>0        </td><td>0        </td><td>0        </td><td>0        </td><td>0        </td><td>4        </td><td>0        </td><td>20-Mar-20</td><td>0        </td><td>6        </td><td>...      </td><td>8        </td><td>0        </td><td>Confirmed</td><td>3        </td><td>0        </td><td>0        </td><td>58       </td><td>4        </td><td>0        </td><td>1        </td></tr>\n",
       "\t<tr><td>0        </td><td>0        </td><td>0        </td><td>0        </td><td>0        </td><td>0        </td><td>0        </td><td>20-Mar-20</td><td>0        </td><td>2        </td><td>...      </td><td>0        </td><td>0        </td><td>Recovered</td><td>0        </td><td>0        </td><td>0        </td><td>3        </td><td>0        </td><td>0        </td><td>0        </td></tr>\n",
       "\t<tr><td>0        </td><td>0        </td><td>0        </td><td>0        </td><td>0        </td><td>0        </td><td>0        </td><td>20-Mar-20</td><td>0        </td><td>0        </td><td>...      </td><td>0        </td><td>0        </td><td>Deceased </td><td>0        </td><td>0        </td><td>0        </td><td>0        </td><td>0        </td><td>0        </td><td>0        </td></tr>\n",
       "\t<tr><td>0        </td><td>2        </td><td>0        </td><td>0        </td><td>0        </td><td>0        </td><td>0        </td><td>21-Mar-20</td><td>0        </td><td>7        </td><td>...      </td><td>7        </td><td>0        </td><td>Confirmed</td><td>2        </td><td>3        </td><td>0        </td><td>78       </td><td>4        </td><td>0        </td><td>2        </td></tr>\n",
       "\t<tr><td>0        </td><td>0        </td><td>0        </td><td>0        </td><td>0        </td><td>0        </td><td>0        </td><td>21-Mar-20</td><td>0        </td><td>0        </td><td>...      </td><td>0        </td><td>0        </td><td>Recovered</td><td>0        </td><td>0        </td><td>0        </td><td>0        </td><td>0        </td><td>0        </td><td>0        </td></tr>\n",
       "\t<tr><td>0        </td><td>0        </td><td>0        </td><td>0        </td><td>0        </td><td>0        </td><td>0        </td><td>21-Mar-20</td><td>0        </td><td>0        </td><td>...      </td><td>0        </td><td>0        </td><td>Deceased </td><td>0        </td><td>0        </td><td>0        </td><td>0        </td><td>0        </td><td>0        </td><td>0        </td></tr>\n",
       "\t<tr><td>0        </td><td>1        </td><td>0        </td><td>0        </td><td>2        </td><td>1        </td><td>0        </td><td>22-Mar-20</td><td>0        </td><td>0        </td><td>...      </td><td>4        </td><td>0        </td><td>Confirmed</td><td>6        </td><td>3        </td><td>0        </td><td>67       </td><td>2        </td><td>0        </td><td>3        </td></tr>\n",
       "\t<tr><td>0        </td><td>0        </td><td>0        </td><td>0        </td><td>0        </td><td>0        </td><td>0        </td><td>22-Mar-20</td><td>0        </td><td>0        </td><td>...      </td><td>0        </td><td>0        </td><td>Recovered</td><td>0        </td><td>0        </td><td>0        </td><td>0        </td><td>0        </td><td>0        </td><td>0        </td></tr>\n",
       "\t<tr><td>0        </td><td>0        </td><td>0        </td><td>0        </td><td>1        </td><td>0        </td><td>0        </td><td>22-Mar-20</td><td>0        </td><td>0        </td><td>...      </td><td>0        </td><td>0        </td><td>Deceased </td><td>0        </td><td>0        </td><td>0        </td><td>3        </td><td>0        </td><td>0        </td><td>0        </td></tr>\n",
       "\t<tr><td>0        </td><td>1        </td><td>0        </td><td>0        </td><td>1        </td><td>1        </td><td>0        </td><td>23-Mar-20</td><td>0        </td><td>3        </td><td>...      </td><td>4        </td><td>0        </td><td>Confirmed</td><td>6        </td><td>3        </td><td>0        </td><td>102      </td><td>2        </td><td>1        </td><td>0        </td></tr>\n",
       "\t<tr><td>0        </td><td>0        </td><td>0        </td><td>0        </td><td>0        </td><td>0        </td><td>0        </td><td>23-Mar-20</td><td>0        </td><td>0        </td><td>...      </td><td>0        </td><td>0        </td><td>Recovered</td><td>0        </td><td>0        </td><td>0        </td><td>12       </td><td>0        </td><td>0        </td><td>0        </td></tr>\n",
       "\t<tr><td>0        </td><td>0        </td><td>0        </td><td>0        </td><td>0        </td><td>0        </td><td>0        </td><td>23-Mar-20</td><td>0        </td><td>0        </td><td>...      </td><td>0        </td><td>0        </td><td>Deceased </td><td>0        </td><td>0        </td><td>0        </td><td>2        </td><td>0        </td><td>0        </td><td>1        </td></tr>\n",
       "\t<tr><td>...</td><td>...</td><td>...</td><td>...</td><td>...</td><td>...</td><td>...</td><td>...</td><td>...</td><td>...</td><td>   </td><td>...</td><td>...</td><td>...</td><td>...</td><td>...</td><td>...</td><td>...</td><td>...</td><td>...</td><td>...</td></tr>\n",
       "\t<tr><td>1        </td><td>75       </td><td>0        </td><td>0        </td><td>17       </td><td>0        </td><td>0        </td><td>20-Apr-20</td><td>0        </td><td>78       </td><td>...      </td><td>98       </td><td>0        </td><td>Confirmed</td><td>14       </td><td>43       </td><td>0        </td><td>1239     </td><td>84       </td><td>2        </td><td>29       </td></tr>\n",
       "\t<tr><td>0        </td><td>27       </td><td>0        </td><td>2        </td><td>0        </td><td>1        </td><td>0        </td><td>20-Apr-20</td><td>0        </td><td>141      </td><td>...      </td><td>0        </td><td>0        </td><td>Recovered</td><td>0        </td><td>46       </td><td>0        </td><td>419      </td><td>13       </td><td>7        </td><td>4        </td></tr>\n",
       "\t<tr><td>0        </td><td>3        </td><td>0        </td><td>0        </td><td>0        </td><td>0        </td><td>0        </td><td>20-Apr-20</td><td>0        </td><td>2        </td><td>...      </td><td>2        </td><td>0        </td><td>Deceased </td><td>2        </td><td>2        </td><td>0        </td><td>33       </td><td>1        </td><td>0        </td><td>0        </td></tr>\n",
       "\t<tr><td>1        </td><td>35       </td><td>0        </td><td>0        </td><td>13       </td><td>1        </td><td>0        </td><td>21-Apr-20</td><td>0        </td><td>75       </td><td>...      </td><td>159      </td><td>0        </td><td>Confirmed</td><td>56       </td><td>76       </td><td>0        </td><td>1537     </td><td>153      </td><td>0        </td><td>53       </td></tr>\n",
       "\t<tr><td>0        </td><td>4        </td><td>0        </td><td>0        </td><td>0        </td><td>0        </td><td>0        </td><td>21-Apr-20</td><td>0        </td><td>180      </td><td>...      </td><td>69       </td><td>0        </td><td>Recovered</td><td>8        </td><td>178      </td><td>0        </td><td>703      </td><td>22       </td><td>1        </td><td>7        </td></tr>\n",
       "\t<tr><td>0        </td><td>2        </td><td>0        </td><td>0        </td><td>0        </td><td>0        </td><td>0        </td><td>21-Apr-20</td><td>0        </td><td>0        </td><td>...      </td><td>1        </td><td>0        </td><td>Deceased </td><td>0        </td><td>1        </td><td>0        </td><td>53       </td><td>3        </td><td>0        </td><td>3        </td></tr>\n",
       "\t<tr><td>1        </td><td>56       </td><td>0        </td><td>0        </td><td>17       </td><td>0        </td><td>0        </td><td>22-Apr-20</td><td>0        </td><td>92       </td><td>...      </td><td>153      </td><td>0        </td><td>Confirmed</td><td>15       </td><td>33       </td><td>0        </td><td>1292     </td><td>112      </td><td>0        </td><td>31       </td></tr>\n",
       "\t<tr><td>0        </td><td>24       </td><td>0        </td><td>0        </td><td>0        </td><td>0        </td><td>3        </td><td>22-Apr-20</td><td>0        </td><td>113      </td><td>...      </td><td>70       </td><td>0        </td><td>Recovered</td><td>0        </td><td>27       </td><td>0        </td><td>394      </td><td>11       </td><td>4        </td><td>0        </td></tr>\n",
       "\t<tr><td>0        </td><td>2        </td><td>0        </td><td>0        </td><td>0        </td><td>0        </td><td>0        </td><td>22-Apr-20</td><td>0        </td><td>1        </td><td>...      </td><td>1        </td><td>0        </td><td>Deceased </td><td>1        </td><td>0        </td><td>0        </td><td>36       </td><td>0        </td><td>0        </td><td>0        </td></tr>\n",
       "\t<tr><td>4        </td><td>80       </td><td>0        </td><td>1        </td><td>27       </td><td>0        </td><td>0        </td><td>23-Apr-20</td><td>0        </td><td>128      </td><td>...      </td><td>76       </td><td>0        </td><td>Confirmed</td><td>27       </td><td>54       </td><td>0        </td><td>1667     </td><td>61       </td><td>1        </td><td>33       </td></tr>\n",
       "\t<tr><td>0        </td><td>21       </td><td>0        </td><td>0        </td><td>2        </td><td>0        </td><td>2        </td><td>23-Apr-20</td><td>0        </td><td>84       </td><td>...      </td><td>107      </td><td>0        </td><td>Recovered</td><td>58       </td><td>90       </td><td>1        </td><td>642      </td><td>33       </td><td>1        </td><td>6        </td></tr>\n",
       "\t<tr><td>0        </td><td>3        </td><td>0        </td><td>0        </td><td>0        </td><td>0        </td><td>0        </td><td>23-Apr-20</td><td>0        </td><td>2        </td><td>...      </td><td>1        </td><td>0        </td><td>Deceased </td><td>1        </td><td>2        </td><td>0        </td><td>40       </td><td>3        </td><td>0        </td><td>0        </td></tr>\n",
       "\t<tr><td>7        </td><td>62       </td><td>0        </td><td>0        </td><td>53       </td><td>0        </td><td>0        </td><td>24-Apr-20</td><td>0        </td><td>138      </td><td>...      </td><td>70       </td><td>0        </td><td>Confirmed</td><td>13       </td><td>72       </td><td>0        </td><td>1408     </td><td>111      </td><td>1        </td><td>58       </td></tr>\n",
       "\t<tr><td>0        </td><td>4        </td><td>0        </td><td>0        </td><td>0        </td><td>1        </td><td>0        </td><td>24-Apr-20</td><td>0        </td><td>49       </td><td>...      </td><td>42       </td><td>0        </td><td>Recovered</td><td>39       </td><td>114      </td><td>0        </td><td>484      </td><td>20       </td><td>1        </td><td>24       </td></tr>\n",
       "\t<tr><td>0        </td><td>2        </td><td>0        </td><td>0        </td><td>0        </td><td>0        </td><td>0        </td><td>24-Apr-20</td><td>0        </td><td>3        </td><td>...      </td><td>4        </td><td>0        </td><td>Deceased </td><td>0        </td><td>2        </td><td>0        </td><td>59       </td><td>1        </td><td>0        </td><td>3        </td></tr>\n",
       "\t<tr><td>4        </td><td>61       </td><td>0        </td><td>0        </td><td>28       </td><td>1        </td><td>1        </td><td>25-Apr-20</td><td>0        </td><td>111      </td><td>...      </td><td>49       </td><td>0        </td><td>Confirmed</td><td>7        </td><td>66       </td><td>0        </td><td>1835     </td><td>172      </td><td>0        </td><td>57       </td></tr>\n",
       "\t<tr><td>0        </td><td>26       </td><td>0        </td><td>0        </td><td>1        </td><td>0        </td><td>2        </td><td>25-Apr-20</td><td>0        </td><td>12       </td><td>...      </td><td>20       </td><td>0        </td><td>Recovered</td><td>16       </td><td>94       </td><td>0        </td><td>442      </td><td>35       </td><td>1        </td><td>0        </td></tr>\n",
       "\t<tr><td>0        </td><td>2        </td><td>0        </td><td>0        </td><td>0        </td><td>0        </td><td>0        </td><td>25-Apr-20</td><td>0        </td><td>1        </td><td>...      </td><td>2        </td><td>0        </td><td>Deceased </td><td>0        </td><td>1        </td><td>0        </td><td>44       </td><td>2        </td><td>0        </td><td>0        </td></tr>\n",
       "\t<tr><td>0        </td><td>81       </td><td>0        </td><td>0        </td><td>26       </td><td>8        </td><td>0        </td><td>26-Apr-20</td><td>0        </td><td>293      </td><td>...      </td><td>102      </td><td>0        </td><td>Confirmed</td><td>11       </td><td>64       </td><td>0        </td><td>1607     </td><td>80       </td><td>3        </td><td>40       </td></tr>\n",
       "\t<tr><td>0        </td><td>60       </td><td>0        </td><td>8        </td><td>11       </td><td>2        </td><td>0        </td><td>26-Apr-20</td><td>0        </td><td>8        </td><td>...      </td><td>116      </td><td>0        </td><td>Recovered</td><td>9        </td><td>60       </td><td>0        </td><td>585      </td><td>66       </td><td>0        </td><td>2        </td></tr>\n",
       "\t<tr><td>0        </td><td>0        </td><td>0        </td><td>0        </td><td>0        </td><td>0        </td><td>0        </td><td>26-Apr-20</td><td>0        </td><td>0        </td><td>...      </td><td>7        </td><td>0        </td><td>Deceased </td><td>0        </td><td>1        </td><td>0        </td><td>56       </td><td>3        </td><td>0        </td><td>2        </td></tr>\n",
       "\t<tr><td>0        </td><td>80       </td><td>0        </td><td>0        </td><td>69       </td><td>9        </td><td>0        </td><td>27-Apr-20</td><td>0        </td><td>190      </td><td>...      </td><td>77       </td><td>0        </td><td>Confirmed</td><td>2        </td><td>52       </td><td>0        </td><td>1568     </td><td>113      </td><td>0        </td><td>38       </td></tr>\n",
       "\t<tr><td>0        </td><td>4        </td><td>0        </td><td>0        </td><td>0        </td><td>0        </td><td>0        </td><td>27-Apr-20</td><td>0        </td><td>0        </td><td>...      </td><td>115      </td><td>0        </td><td>Recovered</td><td>16       </td><td>54       </td><td>0        </td><td>587      </td><td>72       </td><td>7        </td><td>0        </td></tr>\n",
       "\t<tr><td>0        </td><td>0        </td><td>0        </td><td>0        </td><td>0        </td><td>0        </td><td>0        </td><td>27-Apr-20</td><td>0        </td><td>0        </td><td>...      </td><td>9        </td><td>0        </td><td>Deceased </td><td>0        </td><td>0        </td><td>0        </td><td>58       </td><td>1        </td><td>0        </td><td>0        </td></tr>\n",
       "\t<tr><td>0        </td><td>82       </td><td>0        </td><td>2        </td><td>20       </td><td>11       </td><td>1        </td><td>28-Apr-20</td><td>0        </td><td>206      </td><td>...      </td><td>102      </td><td>0        </td><td>Confirmed</td><td>6        </td><td>121      </td><td>0        </td><td>1902     </td><td>67       </td><td>3        </td><td>48       </td></tr>\n",
       "\t<tr><td>4        </td><td>23       </td><td>0        </td><td>0        </td><td>8        </td><td>0        </td><td>2        </td><td>28-Apr-20</td><td>0        </td><td>201      </td><td>...      </td><td>26       </td><td>0        </td><td>Recovered</td><td>42       </td><td>54       </td><td>0        </td><td>637      </td><td>63       </td><td>1        </td><td>4        </td></tr>\n",
       "\t<tr><td>0        </td><td>0        </td><td>0        </td><td>0        </td><td>0        </td><td>0        </td><td>0        </td><td>28-Apr-20</td><td>0        </td><td>0        </td><td>...      </td><td>2        </td><td>0        </td><td>Deceased </td><td>0        </td><td>1        </td><td>0        </td><td>69       </td><td>3        </td><td>0        </td><td>2        </td></tr>\n",
       "\t<tr><td>0        </td><td>73       </td><td>0        </td><td>0        </td><td>37       </td><td>12       </td><td>0        </td><td>29-Apr-20</td><td>0        </td><td>125      </td><td>...      </td><td>74       </td><td>0        </td><td>Confirmed</td><td>7        </td><td>104      </td><td>0        </td><td>1702     </td><td>81       </td><td>1        </td><td>28       </td></tr>\n",
       "\t<tr><td>0        </td><td>29       </td><td>0        </td><td>2        </td><td>0        </td><td>0        </td><td>0        </td><td>29-Apr-20</td><td>0        </td><td>14       </td><td>...      </td><td>44       </td><td>0        </td><td>Recovered</td><td>35       </td><td>82       </td><td>0        </td><td>690      </td><td>48       </td><td>2        </td><td>10       </td></tr>\n",
       "\t<tr><td>0        </td><td>0        </td><td>0        </td><td>0        </td><td>0        </td><td>0        </td><td>0        </td><td>29-Apr-20</td><td>0        </td><td>2        </td><td>...      </td><td>3        </td><td>0        </td><td>Deceased </td><td>0        </td><td>2        </td><td>0        </td><td>71       </td><td>5        </td><td>0        </td><td>0        </td></tr>\n",
       "</tbody>\n",
       "</table>\n"
      ],
      "text/latex": [
       "\\begin{tabular}{r|llllllllllllllllllllllllllllllllllllllll}\n",
       " an & ap & ar & as & br & ch & ct & date & dd & dl & ... & rj & sk & status & tg & tn & tr & tt & up & ut & wb\\\\\n",
       "\\hline\n",
       "\t 0         & 1         & 0         & 0         & 0         & 0         & 0         & 14-Mar-20 & 0         & 7         & ...       & 3         & 0         & Confirmed & 1         & 1         & 0         & 81        & 12        & 0         & 0        \\\\\n",
       "\t 0         & 0         & 0         & 0         & 0         & 0         & 0         & 14-Mar-20 & 0         & 1         & ...       & 1         & 0         & Recovered & 0         & 0         & 0         & 9         & 4         & 0         & 0        \\\\\n",
       "\t 0         & 0         & 0         & 0         & 0         & 0         & 0         & 14-Mar-20 & 0         & 1         & ...       & 0         & 0         & Deceased  & 0         & 0         & 0         & 2         & 0         & 0         & 0        \\\\\n",
       "\t 0         & 0         & 0         & 0         & 0         & 0         & 0         & 15-Mar-20 & 0         & 0         & ...       & 1         & 0         & Confirmed & 2         & 0         & 0         & 27        & 1         & 0         & 0        \\\\\n",
       "\t 0         & 0         & 0         & 0         & 0         & 0         & 0         & 15-Mar-20 & 0         & 1         & ...       & 2         & 0         & Recovered & 1         & 0         & 0         & 4         & 0         & 0         & 0        \\\\\n",
       "\t 0         & 0         & 0         & 0         & 0         & 0         & 0         & 15-Mar-20 & 0         & 0         & ...       & 0         & 0         & Deceased  & 0         & 0         & 0         & 0         & 0         & 0         & 0        \\\\\n",
       "\t 0         & 0         & 0         & 0         & 0         & 0         & 0         & 16-Mar-20 & 0         & 0         & ...       & 0         & 0         & Confirmed & 1         & 0         & 0         & 15        & 0         & 1         & 0        \\\\\n",
       "\t 0         & 0         & 0         & 0         & 0         & 0         & 0         & 16-Mar-20 & 0         & 0         & ...       & 0         & 0         & Recovered & 0         & 1         & 0         & 1         & 0         & 0         & 0        \\\\\n",
       "\t 0         & 0         & 0         & 0         & 0         & 0         & 0         & 16-Mar-20 & 0         & 0         & ...       & 0         & 0         & Deceased  & 0         & 0         & 0         & 0         & 0         & 0         & 0        \\\\\n",
       "\t 0         & 0         & 0         & 0         & 0         & 0         & 0         & 17-Mar-20 & 0         & 1         & ...       & 0         & 0         & Confirmed & 1         & 0         & 0         & 11        & 2         & 0         & 1        \\\\\n",
       "\t 0         & 0         & 0         & 0         & 0         & 0         & 0         & 17-Mar-20 & 0         & 0         & ...       & 0         & 0         & Recovered & 0         & 0         & 0         & 1         & 1         & 0         & 0        \\\\\n",
       "\t 0         & 0         & 0         & 0         & 0         & 0         & 0         & 17-Mar-20 & 0         & 0         & ...       & 0         & 0         & Deceased  & 0         & 0         & 0         & 1         & 0         & 0         & 0        \\\\\n",
       "\t 0         & 0         & 0         & 0         & 0         & 0         & 0         & 18-Mar-20 & 0         & 2         & ...       & 3         & 0         & Confirmed & 8         & 1         & 0         & 37        & 2         & 1         & 0        \\\\\n",
       "\t 0         & 0         & 0         & 0         & 0         & 0         & 0         & 18-Mar-20 & 0         & 0         & ...       & 0         & 0         & Recovered & 0         & 0         & 0         & 0         & 0         & 0         & 0        \\\\\n",
       "\t 0         & 0         & 0         & 0         & 0         & 0         & 0         & 18-Mar-20 & 0         & 0         & ...       & 0         & 0         & Deceased  & 0         & 0         & 0         & 0         & 0         & 0         & 0        \\\\\n",
       "\t 0         & 2         & 0         & 0         & 0         & 1         & 1         & 19-Mar-20 & 0         & 4         & ...       & 2         & 0         & Confirmed & 3         & 1         & 0         & 27        & 3         & 1         & 0        \\\\\n",
       "\t 0         & 0         & 0         & 0         & 0         & 0         & 0         & 19-Mar-20 & 0         & 1         & ...       & 0         & 0         & Recovered & 0         & 0         & 0         & 5         & 4         & 0         & 0        \\\\\n",
       "\t 0         & 0         & 0         & 0         & 0         & 0         & 0         & 19-Mar-20 & 0         & 0         & ...       & 0         & 0         & Deceased  & 0         & 0         & 0         & 1         & 0         & 0         & 0        \\\\\n",
       "\t 0         & 0         & 0         & 0         & 0         & 4         & 0         & 20-Mar-20 & 0         & 6         & ...       & 8         & 0         & Confirmed & 3         & 0         & 0         & 58        & 4         & 0         & 1        \\\\\n",
       "\t 0         & 0         & 0         & 0         & 0         & 0         & 0         & 20-Mar-20 & 0         & 2         & ...       & 0         & 0         & Recovered & 0         & 0         & 0         & 3         & 0         & 0         & 0        \\\\\n",
       "\t 0         & 0         & 0         & 0         & 0         & 0         & 0         & 20-Mar-20 & 0         & 0         & ...       & 0         & 0         & Deceased  & 0         & 0         & 0         & 0         & 0         & 0         & 0        \\\\\n",
       "\t 0         & 2         & 0         & 0         & 0         & 0         & 0         & 21-Mar-20 & 0         & 7         & ...       & 7         & 0         & Confirmed & 2         & 3         & 0         & 78        & 4         & 0         & 2        \\\\\n",
       "\t 0         & 0         & 0         & 0         & 0         & 0         & 0         & 21-Mar-20 & 0         & 0         & ...       & 0         & 0         & Recovered & 0         & 0         & 0         & 0         & 0         & 0         & 0        \\\\\n",
       "\t 0         & 0         & 0         & 0         & 0         & 0         & 0         & 21-Mar-20 & 0         & 0         & ...       & 0         & 0         & Deceased  & 0         & 0         & 0         & 0         & 0         & 0         & 0        \\\\\n",
       "\t 0         & 1         & 0         & 0         & 2         & 1         & 0         & 22-Mar-20 & 0         & 0         & ...       & 4         & 0         & Confirmed & 6         & 3         & 0         & 67        & 2         & 0         & 3        \\\\\n",
       "\t 0         & 0         & 0         & 0         & 0         & 0         & 0         & 22-Mar-20 & 0         & 0         & ...       & 0         & 0         & Recovered & 0         & 0         & 0         & 0         & 0         & 0         & 0        \\\\\n",
       "\t 0         & 0         & 0         & 0         & 1         & 0         & 0         & 22-Mar-20 & 0         & 0         & ...       & 0         & 0         & Deceased  & 0         & 0         & 0         & 3         & 0         & 0         & 0        \\\\\n",
       "\t 0         & 1         & 0         & 0         & 1         & 1         & 0         & 23-Mar-20 & 0         & 3         & ...       & 4         & 0         & Confirmed & 6         & 3         & 0         & 102       & 2         & 1         & 0        \\\\\n",
       "\t 0         & 0         & 0         & 0         & 0         & 0         & 0         & 23-Mar-20 & 0         & 0         & ...       & 0         & 0         & Recovered & 0         & 0         & 0         & 12        & 0         & 0         & 0        \\\\\n",
       "\t 0         & 0         & 0         & 0         & 0         & 0         & 0         & 23-Mar-20 & 0         & 0         & ...       & 0         & 0         & Deceased  & 0         & 0         & 0         & 2         & 0         & 0         & 1        \\\\\n",
       "\t ... & ... & ... & ... & ... & ... & ... & ... & ... & ... &     & ... & ... & ... & ... & ... & ... & ... & ... & ... & ...\\\\\n",
       "\t 1         & 75        & 0         & 0         & 17        & 0         & 0         & 20-Apr-20 & 0         & 78        & ...       & 98        & 0         & Confirmed & 14        & 43        & 0         & 1239      & 84        & 2         & 29       \\\\\n",
       "\t 0         & 27        & 0         & 2         & 0         & 1         & 0         & 20-Apr-20 & 0         & 141       & ...       & 0         & 0         & Recovered & 0         & 46        & 0         & 419       & 13        & 7         & 4        \\\\\n",
       "\t 0         & 3         & 0         & 0         & 0         & 0         & 0         & 20-Apr-20 & 0         & 2         & ...       & 2         & 0         & Deceased  & 2         & 2         & 0         & 33        & 1         & 0         & 0        \\\\\n",
       "\t 1         & 35        & 0         & 0         & 13        & 1         & 0         & 21-Apr-20 & 0         & 75        & ...       & 159       & 0         & Confirmed & 56        & 76        & 0         & 1537      & 153       & 0         & 53       \\\\\n",
       "\t 0         & 4         & 0         & 0         & 0         & 0         & 0         & 21-Apr-20 & 0         & 180       & ...       & 69        & 0         & Recovered & 8         & 178       & 0         & 703       & 22        & 1         & 7        \\\\\n",
       "\t 0         & 2         & 0         & 0         & 0         & 0         & 0         & 21-Apr-20 & 0         & 0         & ...       & 1         & 0         & Deceased  & 0         & 1         & 0         & 53        & 3         & 0         & 3        \\\\\n",
       "\t 1         & 56        & 0         & 0         & 17        & 0         & 0         & 22-Apr-20 & 0         & 92        & ...       & 153       & 0         & Confirmed & 15        & 33        & 0         & 1292      & 112       & 0         & 31       \\\\\n",
       "\t 0         & 24        & 0         & 0         & 0         & 0         & 3         & 22-Apr-20 & 0         & 113       & ...       & 70        & 0         & Recovered & 0         & 27        & 0         & 394       & 11        & 4         & 0        \\\\\n",
       "\t 0         & 2         & 0         & 0         & 0         & 0         & 0         & 22-Apr-20 & 0         & 1         & ...       & 1         & 0         & Deceased  & 1         & 0         & 0         & 36        & 0         & 0         & 0        \\\\\n",
       "\t 4         & 80        & 0         & 1         & 27        & 0         & 0         & 23-Apr-20 & 0         & 128       & ...       & 76        & 0         & Confirmed & 27        & 54        & 0         & 1667      & 61        & 1         & 33       \\\\\n",
       "\t 0         & 21        & 0         & 0         & 2         & 0         & 2         & 23-Apr-20 & 0         & 84        & ...       & 107       & 0         & Recovered & 58        & 90        & 1         & 642       & 33        & 1         & 6        \\\\\n",
       "\t 0         & 3         & 0         & 0         & 0         & 0         & 0         & 23-Apr-20 & 0         & 2         & ...       & 1         & 0         & Deceased  & 1         & 2         & 0         & 40        & 3         & 0         & 0        \\\\\n",
       "\t 7         & 62        & 0         & 0         & 53        & 0         & 0         & 24-Apr-20 & 0         & 138       & ...       & 70        & 0         & Confirmed & 13        & 72        & 0         & 1408      & 111       & 1         & 58       \\\\\n",
       "\t 0         & 4         & 0         & 0         & 0         & 1         & 0         & 24-Apr-20 & 0         & 49        & ...       & 42        & 0         & Recovered & 39        & 114       & 0         & 484       & 20        & 1         & 24       \\\\\n",
       "\t 0         & 2         & 0         & 0         & 0         & 0         & 0         & 24-Apr-20 & 0         & 3         & ...       & 4         & 0         & Deceased  & 0         & 2         & 0         & 59        & 1         & 0         & 3        \\\\\n",
       "\t 4         & 61        & 0         & 0         & 28        & 1         & 1         & 25-Apr-20 & 0         & 111       & ...       & 49        & 0         & Confirmed & 7         & 66        & 0         & 1835      & 172       & 0         & 57       \\\\\n",
       "\t 0         & 26        & 0         & 0         & 1         & 0         & 2         & 25-Apr-20 & 0         & 12        & ...       & 20        & 0         & Recovered & 16        & 94        & 0         & 442       & 35        & 1         & 0        \\\\\n",
       "\t 0         & 2         & 0         & 0         & 0         & 0         & 0         & 25-Apr-20 & 0         & 1         & ...       & 2         & 0         & Deceased  & 0         & 1         & 0         & 44        & 2         & 0         & 0        \\\\\n",
       "\t 0         & 81        & 0         & 0         & 26        & 8         & 0         & 26-Apr-20 & 0         & 293       & ...       & 102       & 0         & Confirmed & 11        & 64        & 0         & 1607      & 80        & 3         & 40       \\\\\n",
       "\t 0         & 60        & 0         & 8         & 11        & 2         & 0         & 26-Apr-20 & 0         & 8         & ...       & 116       & 0         & Recovered & 9         & 60        & 0         & 585       & 66        & 0         & 2        \\\\\n",
       "\t 0         & 0         & 0         & 0         & 0         & 0         & 0         & 26-Apr-20 & 0         & 0         & ...       & 7         & 0         & Deceased  & 0         & 1         & 0         & 56        & 3         & 0         & 2        \\\\\n",
       "\t 0         & 80        & 0         & 0         & 69        & 9         & 0         & 27-Apr-20 & 0         & 190       & ...       & 77        & 0         & Confirmed & 2         & 52        & 0         & 1568      & 113       & 0         & 38       \\\\\n",
       "\t 0         & 4         & 0         & 0         & 0         & 0         & 0         & 27-Apr-20 & 0         & 0         & ...       & 115       & 0         & Recovered & 16        & 54        & 0         & 587       & 72        & 7         & 0        \\\\\n",
       "\t 0         & 0         & 0         & 0         & 0         & 0         & 0         & 27-Apr-20 & 0         & 0         & ...       & 9         & 0         & Deceased  & 0         & 0         & 0         & 58        & 1         & 0         & 0        \\\\\n",
       "\t 0         & 82        & 0         & 2         & 20        & 11        & 1         & 28-Apr-20 & 0         & 206       & ...       & 102       & 0         & Confirmed & 6         & 121       & 0         & 1902      & 67        & 3         & 48       \\\\\n",
       "\t 4         & 23        & 0         & 0         & 8         & 0         & 2         & 28-Apr-20 & 0         & 201       & ...       & 26        & 0         & Recovered & 42        & 54        & 0         & 637       & 63        & 1         & 4        \\\\\n",
       "\t 0         & 0         & 0         & 0         & 0         & 0         & 0         & 28-Apr-20 & 0         & 0         & ...       & 2         & 0         & Deceased  & 0         & 1         & 0         & 69        & 3         & 0         & 2        \\\\\n",
       "\t 0         & 73        & 0         & 0         & 37        & 12        & 0         & 29-Apr-20 & 0         & 125       & ...       & 74        & 0         & Confirmed & 7         & 104       & 0         & 1702      & 81        & 1         & 28       \\\\\n",
       "\t 0         & 29        & 0         & 2         & 0         & 0         & 0         & 29-Apr-20 & 0         & 14        & ...       & 44        & 0         & Recovered & 35        & 82        & 0         & 690       & 48        & 2         & 10       \\\\\n",
       "\t 0         & 0         & 0         & 0         & 0         & 0         & 0         & 29-Apr-20 & 0         & 2         & ...       & 3         & 0         & Deceased  & 0         & 2         & 0         & 71        & 5         & 0         & 0        \\\\\n",
       "\\end{tabular}\n"
      ],
      "text/markdown": [
       "\n",
       "| an | ap | ar | as | br | ch | ct | date | dd | dl | ... | rj | sk | status | tg | tn | tr | tt | up | ut | wb |\n",
       "|---|---|---|---|---|---|---|---|---|---|---|---|---|---|---|---|---|---|---|---|---|\n",
       "| 0         | 1         | 0         | 0         | 0         | 0         | 0         | 14-Mar-20 | 0         | 7         | ...       | 3         | 0         | Confirmed | 1         | 1         | 0         | 81        | 12        | 0         | 0         |\n",
       "| 0         | 0         | 0         | 0         | 0         | 0         | 0         | 14-Mar-20 | 0         | 1         | ...       | 1         | 0         | Recovered | 0         | 0         | 0         | 9         | 4         | 0         | 0         |\n",
       "| 0         | 0         | 0         | 0         | 0         | 0         | 0         | 14-Mar-20 | 0         | 1         | ...       | 0         | 0         | Deceased  | 0         | 0         | 0         | 2         | 0         | 0         | 0         |\n",
       "| 0         | 0         | 0         | 0         | 0         | 0         | 0         | 15-Mar-20 | 0         | 0         | ...       | 1         | 0         | Confirmed | 2         | 0         | 0         | 27        | 1         | 0         | 0         |\n",
       "| 0         | 0         | 0         | 0         | 0         | 0         | 0         | 15-Mar-20 | 0         | 1         | ...       | 2         | 0         | Recovered | 1         | 0         | 0         | 4         | 0         | 0         | 0         |\n",
       "| 0         | 0         | 0         | 0         | 0         | 0         | 0         | 15-Mar-20 | 0         | 0         | ...       | 0         | 0         | Deceased  | 0         | 0         | 0         | 0         | 0         | 0         | 0         |\n",
       "| 0         | 0         | 0         | 0         | 0         | 0         | 0         | 16-Mar-20 | 0         | 0         | ...       | 0         | 0         | Confirmed | 1         | 0         | 0         | 15        | 0         | 1         | 0         |\n",
       "| 0         | 0         | 0         | 0         | 0         | 0         | 0         | 16-Mar-20 | 0         | 0         | ...       | 0         | 0         | Recovered | 0         | 1         | 0         | 1         | 0         | 0         | 0         |\n",
       "| 0         | 0         | 0         | 0         | 0         | 0         | 0         | 16-Mar-20 | 0         | 0         | ...       | 0         | 0         | Deceased  | 0         | 0         | 0         | 0         | 0         | 0         | 0         |\n",
       "| 0         | 0         | 0         | 0         | 0         | 0         | 0         | 17-Mar-20 | 0         | 1         | ...       | 0         | 0         | Confirmed | 1         | 0         | 0         | 11        | 2         | 0         | 1         |\n",
       "| 0         | 0         | 0         | 0         | 0         | 0         | 0         | 17-Mar-20 | 0         | 0         | ...       | 0         | 0         | Recovered | 0         | 0         | 0         | 1         | 1         | 0         | 0         |\n",
       "| 0         | 0         | 0         | 0         | 0         | 0         | 0         | 17-Mar-20 | 0         | 0         | ...       | 0         | 0         | Deceased  | 0         | 0         | 0         | 1         | 0         | 0         | 0         |\n",
       "| 0         | 0         | 0         | 0         | 0         | 0         | 0         | 18-Mar-20 | 0         | 2         | ...       | 3         | 0         | Confirmed | 8         | 1         | 0         | 37        | 2         | 1         | 0         |\n",
       "| 0         | 0         | 0         | 0         | 0         | 0         | 0         | 18-Mar-20 | 0         | 0         | ...       | 0         | 0         | Recovered | 0         | 0         | 0         | 0         | 0         | 0         | 0         |\n",
       "| 0         | 0         | 0         | 0         | 0         | 0         | 0         | 18-Mar-20 | 0         | 0         | ...       | 0         | 0         | Deceased  | 0         | 0         | 0         | 0         | 0         | 0         | 0         |\n",
       "| 0         | 2         | 0         | 0         | 0         | 1         | 1         | 19-Mar-20 | 0         | 4         | ...       | 2         | 0         | Confirmed | 3         | 1         | 0         | 27        | 3         | 1         | 0         |\n",
       "| 0         | 0         | 0         | 0         | 0         | 0         | 0         | 19-Mar-20 | 0         | 1         | ...       | 0         | 0         | Recovered | 0         | 0         | 0         | 5         | 4         | 0         | 0         |\n",
       "| 0         | 0         | 0         | 0         | 0         | 0         | 0         | 19-Mar-20 | 0         | 0         | ...       | 0         | 0         | Deceased  | 0         | 0         | 0         | 1         | 0         | 0         | 0         |\n",
       "| 0         | 0         | 0         | 0         | 0         | 4         | 0         | 20-Mar-20 | 0         | 6         | ...       | 8         | 0         | Confirmed | 3         | 0         | 0         | 58        | 4         | 0         | 1         |\n",
       "| 0         | 0         | 0         | 0         | 0         | 0         | 0         | 20-Mar-20 | 0         | 2         | ...       | 0         | 0         | Recovered | 0         | 0         | 0         | 3         | 0         | 0         | 0         |\n",
       "| 0         | 0         | 0         | 0         | 0         | 0         | 0         | 20-Mar-20 | 0         | 0         | ...       | 0         | 0         | Deceased  | 0         | 0         | 0         | 0         | 0         | 0         | 0         |\n",
       "| 0         | 2         | 0         | 0         | 0         | 0         | 0         | 21-Mar-20 | 0         | 7         | ...       | 7         | 0         | Confirmed | 2         | 3         | 0         | 78        | 4         | 0         | 2         |\n",
       "| 0         | 0         | 0         | 0         | 0         | 0         | 0         | 21-Mar-20 | 0         | 0         | ...       | 0         | 0         | Recovered | 0         | 0         | 0         | 0         | 0         | 0         | 0         |\n",
       "| 0         | 0         | 0         | 0         | 0         | 0         | 0         | 21-Mar-20 | 0         | 0         | ...       | 0         | 0         | Deceased  | 0         | 0         | 0         | 0         | 0         | 0         | 0         |\n",
       "| 0         | 1         | 0         | 0         | 2         | 1         | 0         | 22-Mar-20 | 0         | 0         | ...       | 4         | 0         | Confirmed | 6         | 3         | 0         | 67        | 2         | 0         | 3         |\n",
       "| 0         | 0         | 0         | 0         | 0         | 0         | 0         | 22-Mar-20 | 0         | 0         | ...       | 0         | 0         | Recovered | 0         | 0         | 0         | 0         | 0         | 0         | 0         |\n",
       "| 0         | 0         | 0         | 0         | 1         | 0         | 0         | 22-Mar-20 | 0         | 0         | ...       | 0         | 0         | Deceased  | 0         | 0         | 0         | 3         | 0         | 0         | 0         |\n",
       "| 0         | 1         | 0         | 0         | 1         | 1         | 0         | 23-Mar-20 | 0         | 3         | ...       | 4         | 0         | Confirmed | 6         | 3         | 0         | 102       | 2         | 1         | 0         |\n",
       "| 0         | 0         | 0         | 0         | 0         | 0         | 0         | 23-Mar-20 | 0         | 0         | ...       | 0         | 0         | Recovered | 0         | 0         | 0         | 12        | 0         | 0         | 0         |\n",
       "| 0         | 0         | 0         | 0         | 0         | 0         | 0         | 23-Mar-20 | 0         | 0         | ...       | 0         | 0         | Deceased  | 0         | 0         | 0         | 2         | 0         | 0         | 1         |\n",
       "| ... | ... | ... | ... | ... | ... | ... | ... | ... | ... |     | ... | ... | ... | ... | ... | ... | ... | ... | ... | ... |\n",
       "| 1         | 75        | 0         | 0         | 17        | 0         | 0         | 20-Apr-20 | 0         | 78        | ...       | 98        | 0         | Confirmed | 14        | 43        | 0         | 1239      | 84        | 2         | 29        |\n",
       "| 0         | 27        | 0         | 2         | 0         | 1         | 0         | 20-Apr-20 | 0         | 141       | ...       | 0         | 0         | Recovered | 0         | 46        | 0         | 419       | 13        | 7         | 4         |\n",
       "| 0         | 3         | 0         | 0         | 0         | 0         | 0         | 20-Apr-20 | 0         | 2         | ...       | 2         | 0         | Deceased  | 2         | 2         | 0         | 33        | 1         | 0         | 0         |\n",
       "| 1         | 35        | 0         | 0         | 13        | 1         | 0         | 21-Apr-20 | 0         | 75        | ...       | 159       | 0         | Confirmed | 56        | 76        | 0         | 1537      | 153       | 0         | 53        |\n",
       "| 0         | 4         | 0         | 0         | 0         | 0         | 0         | 21-Apr-20 | 0         | 180       | ...       | 69        | 0         | Recovered | 8         | 178       | 0         | 703       | 22        | 1         | 7         |\n",
       "| 0         | 2         | 0         | 0         | 0         | 0         | 0         | 21-Apr-20 | 0         | 0         | ...       | 1         | 0         | Deceased  | 0         | 1         | 0         | 53        | 3         | 0         | 3         |\n",
       "| 1         | 56        | 0         | 0         | 17        | 0         | 0         | 22-Apr-20 | 0         | 92        | ...       | 153       | 0         | Confirmed | 15        | 33        | 0         | 1292      | 112       | 0         | 31        |\n",
       "| 0         | 24        | 0         | 0         | 0         | 0         | 3         | 22-Apr-20 | 0         | 113       | ...       | 70        | 0         | Recovered | 0         | 27        | 0         | 394       | 11        | 4         | 0         |\n",
       "| 0         | 2         | 0         | 0         | 0         | 0         | 0         | 22-Apr-20 | 0         | 1         | ...       | 1         | 0         | Deceased  | 1         | 0         | 0         | 36        | 0         | 0         | 0         |\n",
       "| 4         | 80        | 0         | 1         | 27        | 0         | 0         | 23-Apr-20 | 0         | 128       | ...       | 76        | 0         | Confirmed | 27        | 54        | 0         | 1667      | 61        | 1         | 33        |\n",
       "| 0         | 21        | 0         | 0         | 2         | 0         | 2         | 23-Apr-20 | 0         | 84        | ...       | 107       | 0         | Recovered | 58        | 90        | 1         | 642       | 33        | 1         | 6         |\n",
       "| 0         | 3         | 0         | 0         | 0         | 0         | 0         | 23-Apr-20 | 0         | 2         | ...       | 1         | 0         | Deceased  | 1         | 2         | 0         | 40        | 3         | 0         | 0         |\n",
       "| 7         | 62        | 0         | 0         | 53        | 0         | 0         | 24-Apr-20 | 0         | 138       | ...       | 70        | 0         | Confirmed | 13        | 72        | 0         | 1408      | 111       | 1         | 58        |\n",
       "| 0         | 4         | 0         | 0         | 0         | 1         | 0         | 24-Apr-20 | 0         | 49        | ...       | 42        | 0         | Recovered | 39        | 114       | 0         | 484       | 20        | 1         | 24        |\n",
       "| 0         | 2         | 0         | 0         | 0         | 0         | 0         | 24-Apr-20 | 0         | 3         | ...       | 4         | 0         | Deceased  | 0         | 2         | 0         | 59        | 1         | 0         | 3         |\n",
       "| 4         | 61        | 0         | 0         | 28        | 1         | 1         | 25-Apr-20 | 0         | 111       | ...       | 49        | 0         | Confirmed | 7         | 66        | 0         | 1835      | 172       | 0         | 57        |\n",
       "| 0         | 26        | 0         | 0         | 1         | 0         | 2         | 25-Apr-20 | 0         | 12        | ...       | 20        | 0         | Recovered | 16        | 94        | 0         | 442       | 35        | 1         | 0         |\n",
       "| 0         | 2         | 0         | 0         | 0         | 0         | 0         | 25-Apr-20 | 0         | 1         | ...       | 2         | 0         | Deceased  | 0         | 1         | 0         | 44        | 2         | 0         | 0         |\n",
       "| 0         | 81        | 0         | 0         | 26        | 8         | 0         | 26-Apr-20 | 0         | 293       | ...       | 102       | 0         | Confirmed | 11        | 64        | 0         | 1607      | 80        | 3         | 40        |\n",
       "| 0         | 60        | 0         | 8         | 11        | 2         | 0         | 26-Apr-20 | 0         | 8         | ...       | 116       | 0         | Recovered | 9         | 60        | 0         | 585       | 66        | 0         | 2         |\n",
       "| 0         | 0         | 0         | 0         | 0         | 0         | 0         | 26-Apr-20 | 0         | 0         | ...       | 7         | 0         | Deceased  | 0         | 1         | 0         | 56        | 3         | 0         | 2         |\n",
       "| 0         | 80        | 0         | 0         | 69        | 9         | 0         | 27-Apr-20 | 0         | 190       | ...       | 77        | 0         | Confirmed | 2         | 52        | 0         | 1568      | 113       | 0         | 38        |\n",
       "| 0         | 4         | 0         | 0         | 0         | 0         | 0         | 27-Apr-20 | 0         | 0         | ...       | 115       | 0         | Recovered | 16        | 54        | 0         | 587       | 72        | 7         | 0         |\n",
       "| 0         | 0         | 0         | 0         | 0         | 0         | 0         | 27-Apr-20 | 0         | 0         | ...       | 9         | 0         | Deceased  | 0         | 0         | 0         | 58        | 1         | 0         | 0         |\n",
       "| 0         | 82        | 0         | 2         | 20        | 11        | 1         | 28-Apr-20 | 0         | 206       | ...       | 102       | 0         | Confirmed | 6         | 121       | 0         | 1902      | 67        | 3         | 48        |\n",
       "| 4         | 23        | 0         | 0         | 8         | 0         | 2         | 28-Apr-20 | 0         | 201       | ...       | 26        | 0         | Recovered | 42        | 54        | 0         | 637       | 63        | 1         | 4         |\n",
       "| 0         | 0         | 0         | 0         | 0         | 0         | 0         | 28-Apr-20 | 0         | 0         | ...       | 2         | 0         | Deceased  | 0         | 1         | 0         | 69        | 3         | 0         | 2         |\n",
       "| 0         | 73        | 0         | 0         | 37        | 12        | 0         | 29-Apr-20 | 0         | 125       | ...       | 74        | 0         | Confirmed | 7         | 104       | 0         | 1702      | 81        | 1         | 28        |\n",
       "| 0         | 29        | 0         | 2         | 0         | 0         | 0         | 29-Apr-20 | 0         | 14        | ...       | 44        | 0         | Recovered | 35        | 82        | 0         | 690       | 48        | 2         | 10        |\n",
       "| 0         | 0         | 0         | 0         | 0         | 0         | 0         | 29-Apr-20 | 0         | 2         | ...       | 3         | 0         | Deceased  | 0         | 2         | 0         | 71        | 5         | 0         | 0         |\n",
       "\n"
      ],
      "text/plain": [
       "    an  ap  ar  as  br  ch  ct  date      dd  dl  ... rj  sk  status    tg  tn \n",
       "1   0   1   0   0   0   0   0   14-Mar-20 0   7   ... 3   0   Confirmed 1   1  \n",
       "2   0   0   0   0   0   0   0   14-Mar-20 0   1   ... 1   0   Recovered 0   0  \n",
       "3   0   0   0   0   0   0   0   14-Mar-20 0   1   ... 0   0   Deceased  0   0  \n",
       "4   0   0   0   0   0   0   0   15-Mar-20 0   0   ... 1   0   Confirmed 2   0  \n",
       "5   0   0   0   0   0   0   0   15-Mar-20 0   1   ... 2   0   Recovered 1   0  \n",
       "6   0   0   0   0   0   0   0   15-Mar-20 0   0   ... 0   0   Deceased  0   0  \n",
       "7   0   0   0   0   0   0   0   16-Mar-20 0   0   ... 0   0   Confirmed 1   0  \n",
       "8   0   0   0   0   0   0   0   16-Mar-20 0   0   ... 0   0   Recovered 0   1  \n",
       "9   0   0   0   0   0   0   0   16-Mar-20 0   0   ... 0   0   Deceased  0   0  \n",
       "10  0   0   0   0   0   0   0   17-Mar-20 0   1   ... 0   0   Confirmed 1   0  \n",
       "11  0   0   0   0   0   0   0   17-Mar-20 0   0   ... 0   0   Recovered 0   0  \n",
       "12  0   0   0   0   0   0   0   17-Mar-20 0   0   ... 0   0   Deceased  0   0  \n",
       "13  0   0   0   0   0   0   0   18-Mar-20 0   2   ... 3   0   Confirmed 8   1  \n",
       "14  0   0   0   0   0   0   0   18-Mar-20 0   0   ... 0   0   Recovered 0   0  \n",
       "15  0   0   0   0   0   0   0   18-Mar-20 0   0   ... 0   0   Deceased  0   0  \n",
       "16  0   2   0   0   0   1   1   19-Mar-20 0   4   ... 2   0   Confirmed 3   1  \n",
       "17  0   0   0   0   0   0   0   19-Mar-20 0   1   ... 0   0   Recovered 0   0  \n",
       "18  0   0   0   0   0   0   0   19-Mar-20 0   0   ... 0   0   Deceased  0   0  \n",
       "19  0   0   0   0   0   4   0   20-Mar-20 0   6   ... 8   0   Confirmed 3   0  \n",
       "20  0   0   0   0   0   0   0   20-Mar-20 0   2   ... 0   0   Recovered 0   0  \n",
       "21  0   0   0   0   0   0   0   20-Mar-20 0   0   ... 0   0   Deceased  0   0  \n",
       "22  0   2   0   0   0   0   0   21-Mar-20 0   7   ... 7   0   Confirmed 2   3  \n",
       "23  0   0   0   0   0   0   0   21-Mar-20 0   0   ... 0   0   Recovered 0   0  \n",
       "24  0   0   0   0   0   0   0   21-Mar-20 0   0   ... 0   0   Deceased  0   0  \n",
       "25  0   1   0   0   2   1   0   22-Mar-20 0   0   ... 4   0   Confirmed 6   3  \n",
       "26  0   0   0   0   0   0   0   22-Mar-20 0   0   ... 0   0   Recovered 0   0  \n",
       "27  0   0   0   0   1   0   0   22-Mar-20 0   0   ... 0   0   Deceased  0   0  \n",
       "28  0   1   0   0   1   1   0   23-Mar-20 0   3   ... 4   0   Confirmed 6   3  \n",
       "29  0   0   0   0   0   0   0   23-Mar-20 0   0   ... 0   0   Recovered 0   0  \n",
       "30  0   0   0   0   0   0   0   23-Mar-20 0   0   ... 0   0   Deceased  0   0  \n",
       "... ... ... ... ... ... ... ... ...       ... ...     ... ... ...       ... ...\n",
       "112 1   75  0   0   17  0   0   20-Apr-20 0   78  ... 98  0   Confirmed 14  43 \n",
       "113 0   27  0   2   0   1   0   20-Apr-20 0   141 ... 0   0   Recovered 0   46 \n",
       "114 0   3   0   0   0   0   0   20-Apr-20 0   2   ... 2   0   Deceased  2   2  \n",
       "115 1   35  0   0   13  1   0   21-Apr-20 0   75  ... 159 0   Confirmed 56  76 \n",
       "116 0   4   0   0   0   0   0   21-Apr-20 0   180 ... 69  0   Recovered 8   178\n",
       "117 0   2   0   0   0   0   0   21-Apr-20 0   0   ... 1   0   Deceased  0   1  \n",
       "118 1   56  0   0   17  0   0   22-Apr-20 0   92  ... 153 0   Confirmed 15  33 \n",
       "119 0   24  0   0   0   0   3   22-Apr-20 0   113 ... 70  0   Recovered 0   27 \n",
       "120 0   2   0   0   0   0   0   22-Apr-20 0   1   ... 1   0   Deceased  1   0  \n",
       "121 4   80  0   1   27  0   0   23-Apr-20 0   128 ... 76  0   Confirmed 27  54 \n",
       "122 0   21  0   0   2   0   2   23-Apr-20 0   84  ... 107 0   Recovered 58  90 \n",
       "123 0   3   0   0   0   0   0   23-Apr-20 0   2   ... 1   0   Deceased  1   2  \n",
       "124 7   62  0   0   53  0   0   24-Apr-20 0   138 ... 70  0   Confirmed 13  72 \n",
       "125 0   4   0   0   0   1   0   24-Apr-20 0   49  ... 42  0   Recovered 39  114\n",
       "126 0   2   0   0   0   0   0   24-Apr-20 0   3   ... 4   0   Deceased  0   2  \n",
       "127 4   61  0   0   28  1   1   25-Apr-20 0   111 ... 49  0   Confirmed 7   66 \n",
       "128 0   26  0   0   1   0   2   25-Apr-20 0   12  ... 20  0   Recovered 16  94 \n",
       "129 0   2   0   0   0   0   0   25-Apr-20 0   1   ... 2   0   Deceased  0   1  \n",
       "130 0   81  0   0   26  8   0   26-Apr-20 0   293 ... 102 0   Confirmed 11  64 \n",
       "131 0   60  0   8   11  2   0   26-Apr-20 0   8   ... 116 0   Recovered 9   60 \n",
       "132 0   0   0   0   0   0   0   26-Apr-20 0   0   ... 7   0   Deceased  0   1  \n",
       "133 0   80  0   0   69  9   0   27-Apr-20 0   190 ... 77  0   Confirmed 2   52 \n",
       "134 0   4   0   0   0   0   0   27-Apr-20 0   0   ... 115 0   Recovered 16  54 \n",
       "135 0   0   0   0   0   0   0   27-Apr-20 0   0   ... 9   0   Deceased  0   0  \n",
       "136 0   82  0   2   20  11  1   28-Apr-20 0   206 ... 102 0   Confirmed 6   121\n",
       "137 4   23  0   0   8   0   2   28-Apr-20 0   201 ... 26  0   Recovered 42  54 \n",
       "138 0   0   0   0   0   0   0   28-Apr-20 0   0   ... 2   0   Deceased  0   1  \n",
       "139 0   73  0   0   37  12  0   29-Apr-20 0   125 ... 74  0   Confirmed 7   104\n",
       "140 0   29  0   2   0   0   0   29-Apr-20 0   14  ... 44  0   Recovered 35  82 \n",
       "141 0   0   0   0   0   0   0   29-Apr-20 0   2   ... 3   0   Deceased  0   2  \n",
       "    tr  tt   up  ut  wb \n",
       "1   0   81   12  0   0  \n",
       "2   0   9    4   0   0  \n",
       "3   0   2    0   0   0  \n",
       "4   0   27   1   0   0  \n",
       "5   0   4    0   0   0  \n",
       "6   0   0    0   0   0  \n",
       "7   0   15   0   1   0  \n",
       "8   0   1    0   0   0  \n",
       "9   0   0    0   0   0  \n",
       "10  0   11   2   0   1  \n",
       "11  0   1    1   0   0  \n",
       "12  0   1    0   0   0  \n",
       "13  0   37   2   1   0  \n",
       "14  0   0    0   0   0  \n",
       "15  0   0    0   0   0  \n",
       "16  0   27   3   1   0  \n",
       "17  0   5    4   0   0  \n",
       "18  0   1    0   0   0  \n",
       "19  0   58   4   0   1  \n",
       "20  0   3    0   0   0  \n",
       "21  0   0    0   0   0  \n",
       "22  0   78   4   0   2  \n",
       "23  0   0    0   0   0  \n",
       "24  0   0    0   0   0  \n",
       "25  0   67   2   0   3  \n",
       "26  0   0    0   0   0  \n",
       "27  0   3    0   0   0  \n",
       "28  0   102  2   1   0  \n",
       "29  0   12   0   0   0  \n",
       "30  0   2    0   0   1  \n",
       "... ... ...  ... ... ...\n",
       "112 0   1239 84  2   29 \n",
       "113 0   419  13  7   4  \n",
       "114 0   33   1   0   0  \n",
       "115 0   1537 153 0   53 \n",
       "116 0   703  22  1   7  \n",
       "117 0   53   3   0   3  \n",
       "118 0   1292 112 0   31 \n",
       "119 0   394  11  4   0  \n",
       "120 0   36   0   0   0  \n",
       "121 0   1667 61  1   33 \n",
       "122 1   642  33  1   6  \n",
       "123 0   40   3   0   0  \n",
       "124 0   1408 111 1   58 \n",
       "125 0   484  20  1   24 \n",
       "126 0   59   1   0   3  \n",
       "127 0   1835 172 0   57 \n",
       "128 0   442  35  1   0  \n",
       "129 0   44   2   0   0  \n",
       "130 0   1607 80  3   40 \n",
       "131 0   585  66  0   2  \n",
       "132 0   56   3   0   2  \n",
       "133 0   1568 113 0   38 \n",
       "134 0   587  72  7   0  \n",
       "135 0   58   1   0   0  \n",
       "136 0   1902 67  3   48 \n",
       "137 0   637  63  1   4  \n",
       "138 0   69   3   0   2  \n",
       "139 0   1702 81  1   28 \n",
       "140 0   690  48  2   10 \n",
       "141 0   71   5   0   0  "
      ]
     },
     "metadata": {},
     "output_type": "display_data"
    }
   ],
   "source": [
    "dat"
   ]
  },
  {
   "cell_type": "markdown",
   "metadata": {},
   "source": [
    "Convert the date which is in string to date format, add a column for short representation of date"
   ]
  },
  {
   "cell_type": "code",
   "execution_count": 4,
   "metadata": {},
   "outputs": [],
   "source": [
    "dat$date = dmy(dat$date)\n",
    "dat$short_date = substr(dat$date, start = 6, stop = 10)"
   ]
  },
  {
   "cell_type": "markdown",
   "metadata": {},
   "source": [
    "The dat DataFrame has all states data. Filter Maharashtra Data and get the daily Confirmed, Recovered, Deceased cases of Maharashtra along with dates. Put these data in new DataFrame mh_dat."
   ]
  },
  {
   "cell_type": "code",
   "execution_count": 5,
   "metadata": {},
   "outputs": [],
   "source": [
    "Confirmed <- dat %>% filter(status == \"Confirmed\") %>% pull(mh)\n",
    "Confirmed <- as.numeric(Confirmed)\n",
    "Recovered <- dat %>% filter(status == \"Recovered\") %>% pull(mh)\n",
    "Recovered <- as.numeric(Recovered)\n",
    "Deceased <- dat %>% filter(status == \"Deceased\") %>% pull(mh)\n",
    "Deceased <- as.numeric(Deceased)\n",
    "Date <- dat %>% filter(status == \"Confirmed\") %>% pull(date)\n",
    "Short_date <- dat %>% filter(status == \"Confirmed\") %>% pull(short_date)\n",
    "\n",
    "mh_dat <- data.frame(\"Confirmed\" = Confirmed, \"Recovered\" = Recovered, \"Deceased\" = Deceased, \n",
    "                     \"Date\" = Date, \"Short_date\"=Short_date)"
   ]
  },
  {
   "cell_type": "markdown",
   "metadata": {},
   "source": [
    "For SEIR model we need cumulative daily confirmed cases and not daily confirmed cases. Get the cumulative confirmed, Recovered and, Deceased cases and then subtract cumulative recovered and cumulative deceased cases from cumulative confirmed cases to get actual cumulative confirmed cases for each day."
   ]
  },
  {
   "cell_type": "code",
   "execution_count": 6,
   "metadata": {},
   "outputs": [],
   "source": [
    "mh_dat <- within(mh_dat, Cum_Confirmed <- cumsum(Confirmed))\n",
    "mh_dat <- within(mh_dat, Cum_Recovered <- cumsum(Recovered))\n",
    "mh_dat <- within(mh_dat, Cum_Deceased <- cumsum(Deceased))\n",
    "\n",
    "mh_dat$Cum_Confirmed = mh_dat$Cum_Confirmed - (mh_dat$Cum_Recovered + mh_dat$Cum_Deceased)"
   ]
  },
  {
   "cell_type": "markdown",
   "metadata": {},
   "source": [
    "Let's look at newly created mh_dat DataFrame containing Maharashtra Data"
   ]
  },
  {
   "cell_type": "code",
   "execution_count": 7,
   "metadata": {},
   "outputs": [
    {
     "data": {
      "text/html": [
       "<table>\n",
       "<thead><tr><th scope=col>Confirmed</th><th scope=col>Recovered</th><th scope=col>Deceased</th><th scope=col>Date</th><th scope=col>Short_date</th><th scope=col>Cum_Confirmed</th><th scope=col>Cum_Recovered</th><th scope=col>Cum_Deceased</th></tr></thead>\n",
       "<tbody>\n",
       "\t<tr><td> 14       </td><td>  0       </td><td> 0        </td><td>2020-03-14</td><td>03-14     </td><td>  14      </td><td>   0      </td><td>  0       </td></tr>\n",
       "\t<tr><td> 18       </td><td>  0       </td><td> 0        </td><td>2020-03-15</td><td>03-15     </td><td>  32      </td><td>   0      </td><td>  0       </td></tr>\n",
       "\t<tr><td>  6       </td><td>  0       </td><td> 0        </td><td>2020-03-16</td><td>03-16     </td><td>  38      </td><td>   0      </td><td>  0       </td></tr>\n",
       "\t<tr><td>  3       </td><td>  0       </td><td> 1        </td><td>2020-03-17</td><td>03-17     </td><td>  40      </td><td>   0      </td><td>  1       </td></tr>\n",
       "\t<tr><td>  3       </td><td>  0       </td><td> 0        </td><td>2020-03-18</td><td>03-18     </td><td>  43      </td><td>   0      </td><td>  1       </td></tr>\n",
       "\t<tr><td>  4       </td><td>  0       </td><td> 0        </td><td>2020-03-19</td><td>03-19     </td><td>  47      </td><td>   0      </td><td>  1       </td></tr>\n",
       "\t<tr><td>  4       </td><td>  0       </td><td> 0        </td><td>2020-03-20</td><td>03-20     </td><td>  51      </td><td>   0      </td><td>  1       </td></tr>\n",
       "\t<tr><td> 12       </td><td>  0       </td><td> 0        </td><td>2020-03-21</td><td>03-21     </td><td>  63      </td><td>   0      </td><td>  1       </td></tr>\n",
       "\t<tr><td> 10       </td><td>  0       </td><td> 1        </td><td>2020-03-22</td><td>03-22     </td><td>  72      </td><td>   0      </td><td>  2       </td></tr>\n",
       "\t<tr><td> 23       </td><td>  0       </td><td> 0        </td><td>2020-03-23</td><td>03-23     </td><td>  95      </td><td>   0      </td><td>  2       </td></tr>\n",
       "\t<tr><td> 10       </td><td>  0       </td><td> 0        </td><td>2020-03-24</td><td>03-24     </td><td> 105      </td><td>   0      </td><td>  2       </td></tr>\n",
       "\t<tr><td> 15       </td><td>  1       </td><td> 0        </td><td>2020-03-25</td><td>03-25     </td><td> 119      </td><td>   1      </td><td>  2       </td></tr>\n",
       "\t<tr><td>  3       </td><td>  0       </td><td> 1        </td><td>2020-03-26</td><td>03-26     </td><td> 121      </td><td>   1      </td><td>  3       </td></tr>\n",
       "\t<tr><td> 31       </td><td> 18       </td><td> 1        </td><td>2020-03-27</td><td>03-27     </td><td> 133      </td><td>  19      </td><td>  4       </td></tr>\n",
       "\t<tr><td> 30       </td><td>  6       </td><td> 2        </td><td>2020-03-28</td><td>03-28     </td><td> 155      </td><td>  25      </td><td>  6       </td></tr>\n",
       "\t<tr><td> 17       </td><td>  0       </td><td> 1        </td><td>2020-03-29</td><td>03-29     </td><td> 171      </td><td>  25      </td><td>  7       </td></tr>\n",
       "\t<tr><td> 17       </td><td> 14       </td><td> 2        </td><td>2020-03-30</td><td>03-30     </td><td> 172      </td><td>  39      </td><td>  9       </td></tr>\n",
       "\t<tr><td> 82       </td><td>  0       </td><td> 1        </td><td>2020-03-31</td><td>03-31     </td><td> 253      </td><td>  39      </td><td> 10       </td></tr>\n",
       "\t<tr><td> 33       </td><td>  0       </td><td> 3        </td><td>2020-04-01</td><td>04-01     </td><td> 283      </td><td>  39      </td><td> 13       </td></tr>\n",
       "\t<tr><td> 88       </td><td>  3       </td><td> 8        </td><td>2020-04-02</td><td>04-02     </td><td> 360      </td><td>  42      </td><td> 21       </td></tr>\n",
       "\t<tr><td> 64       </td><td>  8       </td><td> 5        </td><td>2020-04-03</td><td>04-03     </td><td> 411      </td><td>  50      </td><td> 26       </td></tr>\n",
       "\t<tr><td>148       </td><td>  2       </td><td> 6        </td><td>2020-04-04</td><td>04-04     </td><td> 551      </td><td>  52      </td><td> 32       </td></tr>\n",
       "\t<tr><td>112       </td><td>  4       </td><td>13        </td><td>2020-04-05</td><td>04-05     </td><td> 646      </td><td>  56      </td><td> 45       </td></tr>\n",
       "\t<tr><td>121       </td><td> 14       </td><td> 7        </td><td>2020-04-06</td><td>04-06     </td><td> 746      </td><td>  70      </td><td> 52       </td></tr>\n",
       "\t<tr><td>150       </td><td>  9       </td><td>12        </td><td>2020-04-07</td><td>04-07     </td><td> 875      </td><td>  79      </td><td> 64       </td></tr>\n",
       "\t<tr><td>117       </td><td> 38       </td><td> 8        </td><td>2020-04-08</td><td>04-08     </td><td> 946      </td><td> 117      </td><td> 72       </td></tr>\n",
       "\t<tr><td>229       </td><td>  8       </td><td>25        </td><td>2020-04-09</td><td>04-09     </td><td>1142      </td><td> 125      </td><td> 97       </td></tr>\n",
       "\t<tr><td>210       </td><td> 63       </td><td>12        </td><td>2020-04-10</td><td>04-10     </td><td>1277      </td><td> 188      </td><td>109       </td></tr>\n",
       "\t<tr><td>187       </td><td> 20       </td><td>17        </td><td>2020-04-11</td><td>04-11     </td><td>1427      </td><td> 208      </td><td>126       </td></tr>\n",
       "\t<tr><td>221       </td><td>  9       </td><td>22        </td><td>2020-04-12</td><td>04-12     </td><td>1617      </td><td> 217      </td><td>148       </td></tr>\n",
       "\t<tr><td>352       </td><td> 12       </td><td>11        </td><td>2020-04-13</td><td>04-13     </td><td>1946      </td><td> 229      </td><td>159       </td></tr>\n",
       "\t<tr><td>346       </td><td> 30       </td><td>18        </td><td>2020-04-14</td><td>04-14     </td><td>2244      </td><td> 259      </td><td>177       </td></tr>\n",
       "\t<tr><td>236       </td><td> 36       </td><td> 9        </td><td>2020-04-15</td><td>04-15     </td><td>2435      </td><td> 295      </td><td>186       </td></tr>\n",
       "\t<tr><td>285       </td><td>  5       </td><td> 7        </td><td>2020-04-16</td><td>04-16     </td><td>2708      </td><td> 300      </td><td>193       </td></tr>\n",
       "\t<tr><td>120       </td><td> 31       </td><td> 7        </td><td>2020-04-17</td><td>04-17     </td><td>2790      </td><td> 331      </td><td>200       </td></tr>\n",
       "\t<tr><td>327       </td><td> 34       </td><td>10        </td><td>2020-04-18</td><td>04-18     </td><td>3073      </td><td> 365      </td><td>210       </td></tr>\n",
       "\t<tr><td>552       </td><td>142       </td><td>12        </td><td>2020-04-19</td><td>04-19     </td><td>3471      </td><td> 507      </td><td>222       </td></tr>\n",
       "\t<tr><td>466       </td><td> 65       </td><td> 9        </td><td>2020-04-20</td><td>04-20     </td><td>3863      </td><td> 572      </td><td>231       </td></tr>\n",
       "\t<tr><td>552       </td><td>150       </td><td>19        </td><td>2020-04-21</td><td>04-21     </td><td>4246      </td><td> 722      </td><td>250       </td></tr>\n",
       "\t<tr><td>431       </td><td> 67       </td><td>18        </td><td>2020-04-22</td><td>04-22     </td><td>4592      </td><td> 789      </td><td>268       </td></tr>\n",
       "\t<tr><td>778       </td><td> 51       </td><td>14        </td><td>2020-04-23</td><td>04-23     </td><td>5305      </td><td> 840      </td><td>282       </td></tr>\n",
       "\t<tr><td>390       </td><td>117       </td><td>18        </td><td>2020-04-24</td><td>04-24     </td><td>5560      </td><td> 957      </td><td>300       </td></tr>\n",
       "\t<tr><td>811       </td><td>119       </td><td>22        </td><td>2020-04-25</td><td>04-25     </td><td>6230      </td><td>1076      </td><td>322       </td></tr>\n",
       "\t<tr><td>440       </td><td>112       </td><td>19        </td><td>2020-04-26</td><td>04-26     </td><td>6539      </td><td>1188      </td><td>341       </td></tr>\n",
       "\t<tr><td>522       </td><td> 94       </td><td>27        </td><td>2020-04-27</td><td>04-27     </td><td>6940      </td><td>1282      </td><td>368       </td></tr>\n",
       "\t<tr><td>728       </td><td>106       </td><td>31        </td><td>2020-04-28</td><td>04-28     </td><td>7531      </td><td>1388      </td><td>399       </td></tr>\n",
       "\t<tr><td>597       </td><td>205       </td><td>32        </td><td>2020-04-29</td><td>04-29     </td><td>7891      </td><td>1593      </td><td>431       </td></tr>\n",
       "</tbody>\n",
       "</table>\n"
      ],
      "text/latex": [
       "\\begin{tabular}{r|llllllll}\n",
       " Confirmed & Recovered & Deceased & Date & Short\\_date & Cum\\_Confirmed & Cum\\_Recovered & Cum\\_Deceased\\\\\n",
       "\\hline\n",
       "\t  14        &   0        &  0         & 2020-03-14 & 03-14      &   14       &    0       &   0       \\\\\n",
       "\t  18        &   0        &  0         & 2020-03-15 & 03-15      &   32       &    0       &   0       \\\\\n",
       "\t   6        &   0        &  0         & 2020-03-16 & 03-16      &   38       &    0       &   0       \\\\\n",
       "\t   3        &   0        &  1         & 2020-03-17 & 03-17      &   40       &    0       &   1       \\\\\n",
       "\t   3        &   0        &  0         & 2020-03-18 & 03-18      &   43       &    0       &   1       \\\\\n",
       "\t   4        &   0        &  0         & 2020-03-19 & 03-19      &   47       &    0       &   1       \\\\\n",
       "\t   4        &   0        &  0         & 2020-03-20 & 03-20      &   51       &    0       &   1       \\\\\n",
       "\t  12        &   0        &  0         & 2020-03-21 & 03-21      &   63       &    0       &   1       \\\\\n",
       "\t  10        &   0        &  1         & 2020-03-22 & 03-22      &   72       &    0       &   2       \\\\\n",
       "\t  23        &   0        &  0         & 2020-03-23 & 03-23      &   95       &    0       &   2       \\\\\n",
       "\t  10        &   0        &  0         & 2020-03-24 & 03-24      &  105       &    0       &   2       \\\\\n",
       "\t  15        &   1        &  0         & 2020-03-25 & 03-25      &  119       &    1       &   2       \\\\\n",
       "\t   3        &   0        &  1         & 2020-03-26 & 03-26      &  121       &    1       &   3       \\\\\n",
       "\t  31        &  18        &  1         & 2020-03-27 & 03-27      &  133       &   19       &   4       \\\\\n",
       "\t  30        &   6        &  2         & 2020-03-28 & 03-28      &  155       &   25       &   6       \\\\\n",
       "\t  17        &   0        &  1         & 2020-03-29 & 03-29      &  171       &   25       &   7       \\\\\n",
       "\t  17        &  14        &  2         & 2020-03-30 & 03-30      &  172       &   39       &   9       \\\\\n",
       "\t  82        &   0        &  1         & 2020-03-31 & 03-31      &  253       &   39       &  10       \\\\\n",
       "\t  33        &   0        &  3         & 2020-04-01 & 04-01      &  283       &   39       &  13       \\\\\n",
       "\t  88        &   3        &  8         & 2020-04-02 & 04-02      &  360       &   42       &  21       \\\\\n",
       "\t  64        &   8        &  5         & 2020-04-03 & 04-03      &  411       &   50       &  26       \\\\\n",
       "\t 148        &   2        &  6         & 2020-04-04 & 04-04      &  551       &   52       &  32       \\\\\n",
       "\t 112        &   4        & 13         & 2020-04-05 & 04-05      &  646       &   56       &  45       \\\\\n",
       "\t 121        &  14        &  7         & 2020-04-06 & 04-06      &  746       &   70       &  52       \\\\\n",
       "\t 150        &   9        & 12         & 2020-04-07 & 04-07      &  875       &   79       &  64       \\\\\n",
       "\t 117        &  38        &  8         & 2020-04-08 & 04-08      &  946       &  117       &  72       \\\\\n",
       "\t 229        &   8        & 25         & 2020-04-09 & 04-09      & 1142       &  125       &  97       \\\\\n",
       "\t 210        &  63        & 12         & 2020-04-10 & 04-10      & 1277       &  188       & 109       \\\\\n",
       "\t 187        &  20        & 17         & 2020-04-11 & 04-11      & 1427       &  208       & 126       \\\\\n",
       "\t 221        &   9        & 22         & 2020-04-12 & 04-12      & 1617       &  217       & 148       \\\\\n",
       "\t 352        &  12        & 11         & 2020-04-13 & 04-13      & 1946       &  229       & 159       \\\\\n",
       "\t 346        &  30        & 18         & 2020-04-14 & 04-14      & 2244       &  259       & 177       \\\\\n",
       "\t 236        &  36        &  9         & 2020-04-15 & 04-15      & 2435       &  295       & 186       \\\\\n",
       "\t 285        &   5        &  7         & 2020-04-16 & 04-16      & 2708       &  300       & 193       \\\\\n",
       "\t 120        &  31        &  7         & 2020-04-17 & 04-17      & 2790       &  331       & 200       \\\\\n",
       "\t 327        &  34        & 10         & 2020-04-18 & 04-18      & 3073       &  365       & 210       \\\\\n",
       "\t 552        & 142        & 12         & 2020-04-19 & 04-19      & 3471       &  507       & 222       \\\\\n",
       "\t 466        &  65        &  9         & 2020-04-20 & 04-20      & 3863       &  572       & 231       \\\\\n",
       "\t 552        & 150        & 19         & 2020-04-21 & 04-21      & 4246       &  722       & 250       \\\\\n",
       "\t 431        &  67        & 18         & 2020-04-22 & 04-22      & 4592       &  789       & 268       \\\\\n",
       "\t 778        &  51        & 14         & 2020-04-23 & 04-23      & 5305       &  840       & 282       \\\\\n",
       "\t 390        & 117        & 18         & 2020-04-24 & 04-24      & 5560       &  957       & 300       \\\\\n",
       "\t 811        & 119        & 22         & 2020-04-25 & 04-25      & 6230       & 1076       & 322       \\\\\n",
       "\t 440        & 112        & 19         & 2020-04-26 & 04-26      & 6539       & 1188       & 341       \\\\\n",
       "\t 522        &  94        & 27         & 2020-04-27 & 04-27      & 6940       & 1282       & 368       \\\\\n",
       "\t 728        & 106        & 31         & 2020-04-28 & 04-28      & 7531       & 1388       & 399       \\\\\n",
       "\t 597        & 205        & 32         & 2020-04-29 & 04-29      & 7891       & 1593       & 431       \\\\\n",
       "\\end{tabular}\n"
      ],
      "text/markdown": [
       "\n",
       "| Confirmed | Recovered | Deceased | Date | Short_date | Cum_Confirmed | Cum_Recovered | Cum_Deceased |\n",
       "|---|---|---|---|---|---|---|---|\n",
       "|  14        |   0        |  0         | 2020-03-14 | 03-14      |   14       |    0       |   0        |\n",
       "|  18        |   0        |  0         | 2020-03-15 | 03-15      |   32       |    0       |   0        |\n",
       "|   6        |   0        |  0         | 2020-03-16 | 03-16      |   38       |    0       |   0        |\n",
       "|   3        |   0        |  1         | 2020-03-17 | 03-17      |   40       |    0       |   1        |\n",
       "|   3        |   0        |  0         | 2020-03-18 | 03-18      |   43       |    0       |   1        |\n",
       "|   4        |   0        |  0         | 2020-03-19 | 03-19      |   47       |    0       |   1        |\n",
       "|   4        |   0        |  0         | 2020-03-20 | 03-20      |   51       |    0       |   1        |\n",
       "|  12        |   0        |  0         | 2020-03-21 | 03-21      |   63       |    0       |   1        |\n",
       "|  10        |   0        |  1         | 2020-03-22 | 03-22      |   72       |    0       |   2        |\n",
       "|  23        |   0        |  0         | 2020-03-23 | 03-23      |   95       |    0       |   2        |\n",
       "|  10        |   0        |  0         | 2020-03-24 | 03-24      |  105       |    0       |   2        |\n",
       "|  15        |   1        |  0         | 2020-03-25 | 03-25      |  119       |    1       |   2        |\n",
       "|   3        |   0        |  1         | 2020-03-26 | 03-26      |  121       |    1       |   3        |\n",
       "|  31        |  18        |  1         | 2020-03-27 | 03-27      |  133       |   19       |   4        |\n",
       "|  30        |   6        |  2         | 2020-03-28 | 03-28      |  155       |   25       |   6        |\n",
       "|  17        |   0        |  1         | 2020-03-29 | 03-29      |  171       |   25       |   7        |\n",
       "|  17        |  14        |  2         | 2020-03-30 | 03-30      |  172       |   39       |   9        |\n",
       "|  82        |   0        |  1         | 2020-03-31 | 03-31      |  253       |   39       |  10        |\n",
       "|  33        |   0        |  3         | 2020-04-01 | 04-01      |  283       |   39       |  13        |\n",
       "|  88        |   3        |  8         | 2020-04-02 | 04-02      |  360       |   42       |  21        |\n",
       "|  64        |   8        |  5         | 2020-04-03 | 04-03      |  411       |   50       |  26        |\n",
       "| 148        |   2        |  6         | 2020-04-04 | 04-04      |  551       |   52       |  32        |\n",
       "| 112        |   4        | 13         | 2020-04-05 | 04-05      |  646       |   56       |  45        |\n",
       "| 121        |  14        |  7         | 2020-04-06 | 04-06      |  746       |   70       |  52        |\n",
       "| 150        |   9        | 12         | 2020-04-07 | 04-07      |  875       |   79       |  64        |\n",
       "| 117        |  38        |  8         | 2020-04-08 | 04-08      |  946       |  117       |  72        |\n",
       "| 229        |   8        | 25         | 2020-04-09 | 04-09      | 1142       |  125       |  97        |\n",
       "| 210        |  63        | 12         | 2020-04-10 | 04-10      | 1277       |  188       | 109        |\n",
       "| 187        |  20        | 17         | 2020-04-11 | 04-11      | 1427       |  208       | 126        |\n",
       "| 221        |   9        | 22         | 2020-04-12 | 04-12      | 1617       |  217       | 148        |\n",
       "| 352        |  12        | 11         | 2020-04-13 | 04-13      | 1946       |  229       | 159        |\n",
       "| 346        |  30        | 18         | 2020-04-14 | 04-14      | 2244       |  259       | 177        |\n",
       "| 236        |  36        |  9         | 2020-04-15 | 04-15      | 2435       |  295       | 186        |\n",
       "| 285        |   5        |  7         | 2020-04-16 | 04-16      | 2708       |  300       | 193        |\n",
       "| 120        |  31        |  7         | 2020-04-17 | 04-17      | 2790       |  331       | 200        |\n",
       "| 327        |  34        | 10         | 2020-04-18 | 04-18      | 3073       |  365       | 210        |\n",
       "| 552        | 142        | 12         | 2020-04-19 | 04-19      | 3471       |  507       | 222        |\n",
       "| 466        |  65        |  9         | 2020-04-20 | 04-20      | 3863       |  572       | 231        |\n",
       "| 552        | 150        | 19         | 2020-04-21 | 04-21      | 4246       |  722       | 250        |\n",
       "| 431        |  67        | 18         | 2020-04-22 | 04-22      | 4592       |  789       | 268        |\n",
       "| 778        |  51        | 14         | 2020-04-23 | 04-23      | 5305       |  840       | 282        |\n",
       "| 390        | 117        | 18         | 2020-04-24 | 04-24      | 5560       |  957       | 300        |\n",
       "| 811        | 119        | 22         | 2020-04-25 | 04-25      | 6230       | 1076       | 322        |\n",
       "| 440        | 112        | 19         | 2020-04-26 | 04-26      | 6539       | 1188       | 341        |\n",
       "| 522        |  94        | 27         | 2020-04-27 | 04-27      | 6940       | 1282       | 368        |\n",
       "| 728        | 106        | 31         | 2020-04-28 | 04-28      | 7531       | 1388       | 399        |\n",
       "| 597        | 205        | 32         | 2020-04-29 | 04-29      | 7891       | 1593       | 431        |\n",
       "\n"
      ],
      "text/plain": [
       "   Confirmed Recovered Deceased Date       Short_date Cum_Confirmed\n",
       "1   14         0        0       2020-03-14 03-14        14         \n",
       "2   18         0        0       2020-03-15 03-15        32         \n",
       "3    6         0        0       2020-03-16 03-16        38         \n",
       "4    3         0        1       2020-03-17 03-17        40         \n",
       "5    3         0        0       2020-03-18 03-18        43         \n",
       "6    4         0        0       2020-03-19 03-19        47         \n",
       "7    4         0        0       2020-03-20 03-20        51         \n",
       "8   12         0        0       2020-03-21 03-21        63         \n",
       "9   10         0        1       2020-03-22 03-22        72         \n",
       "10  23         0        0       2020-03-23 03-23        95         \n",
       "11  10         0        0       2020-03-24 03-24       105         \n",
       "12  15         1        0       2020-03-25 03-25       119         \n",
       "13   3         0        1       2020-03-26 03-26       121         \n",
       "14  31        18        1       2020-03-27 03-27       133         \n",
       "15  30         6        2       2020-03-28 03-28       155         \n",
       "16  17         0        1       2020-03-29 03-29       171         \n",
       "17  17        14        2       2020-03-30 03-30       172         \n",
       "18  82         0        1       2020-03-31 03-31       253         \n",
       "19  33         0        3       2020-04-01 04-01       283         \n",
       "20  88         3        8       2020-04-02 04-02       360         \n",
       "21  64         8        5       2020-04-03 04-03       411         \n",
       "22 148         2        6       2020-04-04 04-04       551         \n",
       "23 112         4       13       2020-04-05 04-05       646         \n",
       "24 121        14        7       2020-04-06 04-06       746         \n",
       "25 150         9       12       2020-04-07 04-07       875         \n",
       "26 117        38        8       2020-04-08 04-08       946         \n",
       "27 229         8       25       2020-04-09 04-09      1142         \n",
       "28 210        63       12       2020-04-10 04-10      1277         \n",
       "29 187        20       17       2020-04-11 04-11      1427         \n",
       "30 221         9       22       2020-04-12 04-12      1617         \n",
       "31 352        12       11       2020-04-13 04-13      1946         \n",
       "32 346        30       18       2020-04-14 04-14      2244         \n",
       "33 236        36        9       2020-04-15 04-15      2435         \n",
       "34 285         5        7       2020-04-16 04-16      2708         \n",
       "35 120        31        7       2020-04-17 04-17      2790         \n",
       "36 327        34       10       2020-04-18 04-18      3073         \n",
       "37 552       142       12       2020-04-19 04-19      3471         \n",
       "38 466        65        9       2020-04-20 04-20      3863         \n",
       "39 552       150       19       2020-04-21 04-21      4246         \n",
       "40 431        67       18       2020-04-22 04-22      4592         \n",
       "41 778        51       14       2020-04-23 04-23      5305         \n",
       "42 390       117       18       2020-04-24 04-24      5560         \n",
       "43 811       119       22       2020-04-25 04-25      6230         \n",
       "44 440       112       19       2020-04-26 04-26      6539         \n",
       "45 522        94       27       2020-04-27 04-27      6940         \n",
       "46 728       106       31       2020-04-28 04-28      7531         \n",
       "47 597       205       32       2020-04-29 04-29      7891         \n",
       "   Cum_Recovered Cum_Deceased\n",
       "1     0            0         \n",
       "2     0            0         \n",
       "3     0            0         \n",
       "4     0            1         \n",
       "5     0            1         \n",
       "6     0            1         \n",
       "7     0            1         \n",
       "8     0            1         \n",
       "9     0            2         \n",
       "10    0            2         \n",
       "11    0            2         \n",
       "12    1            2         \n",
       "13    1            3         \n",
       "14   19            4         \n",
       "15   25            6         \n",
       "16   25            7         \n",
       "17   39            9         \n",
       "18   39           10         \n",
       "19   39           13         \n",
       "20   42           21         \n",
       "21   50           26         \n",
       "22   52           32         \n",
       "23   56           45         \n",
       "24   70           52         \n",
       "25   79           64         \n",
       "26  117           72         \n",
       "27  125           97         \n",
       "28  188          109         \n",
       "29  208          126         \n",
       "30  217          148         \n",
       "31  229          159         \n",
       "32  259          177         \n",
       "33  295          186         \n",
       "34  300          193         \n",
       "35  331          200         \n",
       "36  365          210         \n",
       "37  507          222         \n",
       "38  572          231         \n",
       "39  722          250         \n",
       "40  789          268         \n",
       "41  840          282         \n",
       "42  957          300         \n",
       "43 1076          322         \n",
       "44 1188          341         \n",
       "45 1282          368         \n",
       "46 1388          399         \n",
       "47 1593          431         "
      ]
     },
     "metadata": {},
     "output_type": "display_data"
    }
   ],
   "source": [
    "mh_dat"
   ]
  },
  {
   "cell_type": "markdown",
   "metadata": {},
   "source": [
    "Before going ahead, let's plot and view cumulative confirmed, recovered, and deceased cases per day starting from 14th March."
   ]
  },
  {
   "cell_type": "code",
   "execution_count": 8,
   "metadata": {},
   "outputs": [
    {
     "data": {
      "image/png": "[encoded data removed]",
      "text/plain": [
       "plot without title"
      ]
     },
     "metadata": {},
     "output_type": "display_data"
    }
   ],
   "source": [
    "ggplot()+labs(title=\"Confirmed, recovered and deceased cases in Maharashtra\", x=\"Dates\", y=\"Cases\")+\n",
    "geom_point(mh_dat, mapping=aes(x = Short_date, y = Cum_Confirmed, group=1, color=\"Total confirmed\")) +\n",
    "geom_line(mh_dat, mapping=aes(x = Short_date, y = Cum_Confirmed, group=1, color=\"Total confirmed\")) +\n",
    "geom_point(mh_dat, mapping=aes(x = Short_date, y = Cum_Recovered, group=1, color=\"Total Recovered\")) +\n",
    "geom_line(mh_dat, mapping=aes(x = Short_date, y = Cum_Recovered, group=1, color=\"Total Recovered\")) +\n",
    "geom_point(mh_dat, mapping=aes(x = Short_date, y = Cum_Deceased, group=1, color=\"Total Deceased\")) +\n",
    "geom_line(mh_dat, mapping=aes(x = Short_date, y = Cum_Deceased, group=1, color=\"Total Deceased\"))"
   ]
  },
  {
   "cell_type": "markdown",
   "metadata": {},
   "source": [
    "Express the differential equations of SEIR model as an R function"
   ]
  },
  {
   "cell_type": "code",
   "execution_count": 9,
   "metadata": {},
   "outputs": [],
   "source": [
    "SEIR <- function(time, state, parameters) {\n",
    "  par <- as.list(c(state, parameters))\n",
    "  with(par, {\n",
    "    dS <- -beta * I * S/N\n",
    "    dE <- beta * I * S/N - kappa * E\n",
    "    dI <- kappa * E - gamma * I\n",
    "    dR <- gamma * I\n",
    "    list(c(dS, dE, dI, dR))\n",
    "  })\n",
    "}"
   ]
  },
  {
   "cell_type": "markdown",
   "metadata": {},
   "source": [
    "Get the cumulative infected/confirmed cases from 14th March 2020 till 5th April 2020."
   ]
  },
  {
   "cell_type": "code",
   "execution_count": 10,
   "metadata": {},
   "outputs": [],
   "source": [
    "Infected <- mh_dat %>% filter(Date >= dmy(\"14-Mar-20\"), Date <= dmy(\"05-Apr-20\")) %>% \n",
    "pull(Cum_Confirmed)"
   ]
  },
  {
   "cell_type": "markdown",
   "metadata": {},
   "source": [
    "Create an incrementing Day vector the same length as Infected. Initialize N with a population of Maharashtra. Initially, everyone is in susceptible class, so initialize Susceptible with S = N - cumulative confirmed cases on 14th march(First day of data), Infected (I) with cumulative Infected cases on 14th March, Exposed (E) with 30, No one has recovered on 14th March so R = 0."
   ]
  },
  {
   "cell_type": "code",
   "execution_count": 11,
   "metadata": {},
   "outputs": [],
   "source": [
    "Day <- 1:(length(Infected))\n",
    "N <- 114200000\n",
    "init <- c(S = N - Infected[1], E=30, I = Infected[1], R = 0)"
   ]
  },
  {
   "cell_type": "markdown",
   "metadata": {},
   "source": [
    "Define a function RSS(Residual Sum of Squares) which needs to be minimized for Infected and predicted Infected cases to get optimum value for parameters β, γ, κ of differential equations."
   ]
  },
  {
   "cell_type": "code",
   "execution_count": 12,
   "metadata": {},
   "outputs": [],
   "source": [
    "RSS <- function(parameters) {\n",
    "  names(parameters) <- c(\"beta\", \"kappa\", \"gamma\")\n",
    "  out <- ode(y = init, times = Day, func = SEIR, parms = parameters)\n",
    "  fit <- out[, 4]\n",
    "  sum((Infected - fit)^2)\n",
    "}"
   ]
  },
  {
   "cell_type": "markdown",
   "metadata": {},
   "source": [
    "Fit the SEIR model to our data by finding the values for β, γ, κ that minimize the residual sum of squares between the observed cumulative infected cases and the predicted cumulative infected cases."
   ]
  },
  {
   "cell_type": "code",
   "execution_count": 13,
   "metadata": {},
   "outputs": [
    {
     "data": {
      "text/html": [
       "'CONVERGENCE: REL_REDUCTION_OF_F &lt;= FACTR*EPSMCH'"
      ],
      "text/latex": [
       "'CONVERGENCE: REL\\_REDUCTION\\_OF\\_F <= FACTR*EPSMCH'"
      ],
      "text/markdown": [
       "'CONVERGENCE: REL_REDUCTION_OF_F &lt;= FACTR*EPSMCH'"
      ],
      "text/plain": [
       "[1] \"CONVERGENCE: REL_REDUCTION_OF_F <= FACTR*EPSMCH\""
      ]
     },
     "metadata": {},
     "output_type": "display_data"
    }
   ],
   "source": [
    "Opt <- optim(c(0.5, 0.5, 0.5), RSS, method = \"L-BFGS-B\", lower = c(0, 0, 0), upper = c(1, 1, 1))\n",
    "Opt$message"
   ]
  },
  {
   "cell_type": "markdown",
   "metadata": {},
   "source": [
    "Examine the fitted values for β, γ, κ."
   ]
  },
  {
   "cell_type": "code",
   "execution_count": 14,
   "metadata": {},
   "outputs": [
    {
     "data": {
      "text/html": [
       "<dl class=dl-horizontal>\n",
       "\t<dt>beta</dt>\n",
       "\t\t<dd>1</dd>\n",
       "\t<dt>kappa</dt>\n",
       "\t\t<dd>0.295916322631313</dd>\n",
       "\t<dt>gamma</dt>\n",
       "\t\t<dd>0.459716415572442</dd>\n",
       "</dl>\n"
      ],
      "text/latex": [
       "\\begin{description*}\n",
       "\\item[beta] 1\n",
       "\\item[kappa] 0.295916322631313\n",
       "\\item[gamma] 0.459716415572442\n",
       "\\end{description*}\n"
      ],
      "text/markdown": [
       "beta\n",
       ":   1kappa\n",
       ":   0.295916322631313gamma\n",
       ":   0.459716415572442\n",
       "\n"
      ],
      "text/plain": [
       "     beta     kappa     gamma \n",
       "1.0000000 0.2959163 0.4597164 "
      ]
     },
     "metadata": {},
     "output_type": "display_data"
    }
   ],
   "source": [
    "Opt_par <- setNames(Opt$par, c(\"beta\", \"kappa\", \"gamma\"))\n",
    "Opt_par"
   ]
  },
  {
   "cell_type": "markdown",
   "metadata": {},
   "source": [
    "Let's use this model to predict the cumulative infected cases until 25th April."
   ]
  },
  {
   "cell_type": "code",
   "execution_count": 15,
   "metadata": {},
   "outputs": [
    {
     "name": "stderr",
     "output_type": "stream",
     "text": [
      "Joining, by = \"Date\"\n"
     ]
    },
    {
     "data": {
      "image/png": "[encoded data removed]",
      "text/plain": [
       "plot without title"
      ]
     },
     "metadata": {},
     "output_type": "display_data"
    }
   ],
   "source": [
    "t <- 1:as.integer(dmy(\"25-Apr-20\") - dmy(\"14-Mar-20\"))\n",
    "fitted_cumulative_incidence <- data.frame(ode(y = init, times = t, func = SEIR, parms = Opt_par))\n",
    "\n",
    "fitted_cumulative_incidence <- fitted_cumulative_incidence %>% \n",
    "  mutate(Date = dmy(\"14-Mar-20\") + days(t - 1)) %>% \n",
    "  left_join(mh_dat %>% ungroup() %>% select(Date, Cum_Confirmed))\n",
    "\n",
    "fitted_cumulative_incidence %>% filter(Date <= dmy(\"25-Apr-2020\")) %>% \n",
    "  ggplot(aes(x = Date)) + geom_line(aes(y = I), colour = \"red\") + \n",
    "  geom_point(aes(y = Cum_Confirmed), colour = \"orange\") + \n",
    "  labs(y = \"Cumulative Infected\", \n",
    "       title = \"COVID-19 fitted vs actual cumulative infected, Maharashtra\", \n",
    "       subtitle = \"(red=fitted infected from SEIR model, orange=actual cumulative infected)\")"
   ]
  },
  {
   "cell_type": "markdown",
   "metadata": {},
   "source": [
    "We can see that the actual infected is much lower than that predicted by the SEIR model. The reason is that model is not taking into account the measures by the government like lockdown, quarantine. So, using this model we can say that measures taken by the government are in the right direction and working.\n",
    "Let's see what will happen if the outbreak is left to run without any intervention."
   ]
  },
  {
   "cell_type": "code",
   "execution_count": 16,
   "metadata": {},
   "outputs": [
    {
     "name": "stderr",
     "output_type": "stream",
     "text": [
      "Joining, by = \"Date\"\n",
      "Warning message:\n",
      "\"Removed 103 rows containing missing values (geom_point).\""
     ]
    },
    {
     "data": {
      "image/png": "[encoded data removed]",
      "text/plain": [
       "plot without title"
      ]
     },
     "metadata": {},
     "output_type": "display_data"
    }
   ],
   "source": [
    "t <- 1:150\n",
    "fitted_cumulative_incidence <- data.frame(ode(y = init, times = t, \n",
    "                                              func = SEIR, parms = Opt_par))\n",
    "\n",
    "fitted_cumulative_incidence <- fitted_cumulative_incidence %>% \n",
    "  mutate(Date = dmy(\"14-Mar-20\") + days(t - 1)) %>% \n",
    "  left_join(mh_dat %>% ungroup() %>% select(Date, Cum_Confirmed))\n",
    "\n",
    "fitted_cumulative_incidence %>% ggplot(aes(x = Date)) + \n",
    "  geom_line(aes(y = I), colour = \"red\") + \n",
    "  geom_line(aes(y = S), colour = \"black\") + \n",
    "  geom_line(aes(y = R), colour = \"green\") + \n",
    "  geom_line(aes(y = E), colour = \"brown\") + \n",
    "  geom_point(aes(y = Cum_Confirmed), colour = \"orange\") + \n",
    "  scale_y_continuous(labels = scales::comma) + \n",
    "  labs(y = \"Persons\", title = \"COVID-19 fitted vs actual cumulative infected, Maharashtra\",\n",
    "       subtitle = \"(black=susceptible cases, brown=exposed cases, red=infected cases, \n",
    "       green=recovered cases, orange points = actual cumulative infected cases till date.)\")"
   ]
  },
  {
   "cell_type": "markdown",
   "metadata": {},
   "source": [
    "Clearly this is a disaster with about 5-6 million infected cases reaching a peak somewhere around mid June."
   ]
  }
 ],
 "metadata": {
  "kernelspec": {
   "display_name": "R",
   "language": "R",
   "name": "ir"
  },
  "language_info": {
   "codemirror_mode": "r",
   "file_extension": ".r",
   "mimetype": "text/x-r-source",
   "name": "R",
   "pygments_lexer": "r",
   "version": "3.6.1"
  }
 },
 "nbformat": 4,
 "nbformat_minor": 2
}
